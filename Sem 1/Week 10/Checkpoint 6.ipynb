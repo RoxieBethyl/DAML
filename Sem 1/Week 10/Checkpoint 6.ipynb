{
 "cells": [
  {
   "cell_type": "markdown",
   "metadata": {},
   "source": [
    "# Checkpoint 6"
   ]
  },
  {
   "cell_type": "code",
   "execution_count": 129,
   "metadata": {},
   "outputs": [],
   "source": [
    "import numpy as np\n",
    "import matplotlib.pyplot as plt\n",
    "from scipy.stats import norm\n",
    "#from scipy.special import erfinv\n",
    "from scipy.integrate import quad\n",
    "from iminuit import Minuit\n",
    "from scipy.special import erf"
   ]
  },
  {
   "cell_type": "code",
   "execution_count": 130,
   "metadata": {},
   "outputs": [],
   "source": [
    "def get_hist_info(data, NBINS):\n",
    "    # Derive the appropriate numbers in the data\n",
    "    # Here shifting x values to the center of the bins and\n",
    "    # getting the height of the bin for y values\n",
    "    \n",
    "    n, bins = np.histogram(data, bins=NBINS)\n",
    "    bins = [(bins[i] + bins[i+1])/2. for i in range(len(bins)-1)]\n",
    "    bins = np.array(bins)\n",
    "    n = np.array(n)\n",
    "    \n",
    "    return bins, n"
   ]
  },
  {
   "cell_type": "code",
   "execution_count": 131,
   "metadata": {},
   "outputs": [],
   "source": [
    "NBINS = 100\n",
    "MEAN = 2.5\n",
    "LIFETIME = 5\n",
    "SIGMA = 0.2\n",
    "F = 0.98\n",
    "\n",
    "data = np.loadtxt('datafile-higgs.txt')\n",
    "x, y = get_hist_info(data, NBINS) # For plotting the data as sanity check only"
   ]
  },
  {
   "cell_type": "code",
   "execution_count": 132,
   "metadata": {},
   "outputs": [
    {
     "data": {
      "image/png": "[encoded data removed]",
      "text/plain": [
       "<Figure size 960x720 with 1 Axes>"
      ]
     },
     "metadata": {},
     "output_type": "display_data"
    }
   ],
   "source": [
    "plt.figure(dpi=150)\n",
    "plt.hist(data, bins=NBINS)\n",
    "plt.xlabel(\"Mass\")\n",
    "plt.ylabel(\"Frequency\")\n",
    "plt.show()"
   ]
  },
  {
   "cell_type": "code",
   "execution_count": 133,
   "metadata": {},
   "outputs": [],
   "source": [
    "# Class recycled from week 8 (Linear)\n",
    "# Removed any slope arguments since model is flat which would output a horizontal line\n",
    "class linear:\n",
    "    def __init__(self, intercept, slope, lolimit, hilimit):\n",
    "        self.intercept = intercept\n",
    "        self.slope = slope\n",
    "        \n",
    "        self.lolimit = lolimit\n",
    "        self.hilimit = hilimit\n",
    "\n",
    "        self.mass = []\n",
    "        self.maxval = self.evaluate(self.lolimit if self.slope < 0. else self.hilimit)\n",
    "       \n",
    "    def evaluate(self, t):\n",
    "        # Normalized linear\n",
    "        return (self.intercept + self.slope*t)/self.integral()\n",
    "    \n",
    "    def integral(self):\n",
    "        return ((self.slope/2)*(self.hilimit**2)) - ((self.slope/2)*(self.lolimit**2)) + (self.intercept*(self.hilimit-self.lolimit))\n",
    "\n",
    "    def next(self):        \n",
    "        doLoop = True\n",
    "        while (doLoop):\n",
    "            # start with uniform random number in [lolimit , hilimit)\n",
    "            x = np.random.uniform(self.lolimit, self.hilimit)\n",
    "            y1 = self.evaluate(x)\n",
    "            y2 = np.random.uniform(0, self.maxval)\n",
    "\n",
    "            if (y2 < y1):\n",
    "                filtered_x = x\n",
    "                self.mass.append(filtered_x)\n",
    "                return filtered_x\n",
    "\n",
    "\n",
    "\n",
    "class exponential:\n",
    "    def __init__(self, lifetime, lolimit, hilimit):\n",
    "        self.lifetime = lifetime\n",
    "        self.lolimit  = lolimit \n",
    "        self.hilimit = hilimit\n",
    "\n",
    "    def evaluate(self, mean):\n",
    "        # Normalized exponential\n",
    "        return np.exp(-(mean/self.lifetime))/self.integral()\n",
    "    \n",
    "    def integral(self):\n",
    "        return ((self.lifetime*np.exp(-(self.lolimit/self.lifetime)))-(self.lifetime*np.exp(-(self.hilimit/self.lifetime))))\n",
    "\n",
    "\n",
    "\n",
    "# Gaussian recycled from week 8\n",
    "class gaussian:\n",
    "    def __init__(self, mean, sigma, lolimit, hilimit):\n",
    "        self.mean = mean\n",
    "        self.sigma = sigma\n",
    "        self.lolimit  = lolimit\n",
    "        self.hilimit = hilimit\n",
    "        self.pdf = norm(self.mean, self.sigma).pdf\n",
    "\n",
    "    def evaluate(self, x):\n",
    "        # Normalized Gaussian\n",
    "        return np.exp(-(0.5*np.square((x-self.mean)/self.sigma)))/self.integral()\n",
    "    \n",
    "    def integral(self):\n",
    "        return ((np.sqrt(np.pi)*(erf((self.mean-self.lolimit)/(np.sqrt(2)*self.sigma))-erf((self.mean-self.hilimit)/(np.sqrt(2)*self.sigma))))*self.sigma)/np.sqrt(2)\n",
    "\n",
    "\n",
    "\n",
    "class polynomial:\n",
    "    def __init__(self, a, b, c, lolimit, hilimit):\n",
    "        self.a = a\n",
    "        self.b = b\n",
    "        self.c = c\n",
    "        self.lolimit = lolimit\n",
    "        self.hilimit = hilimit\n",
    "\n",
    "    def evaluate(self, x):\n",
    "        # Normalized polynomial\n",
    "        return (self.a + self.b*x + self.c*np.square(x))/self.integral()\n",
    "    \n",
    "    def integral(self):\n",
    "        return ((self.c/3)*np.power(self.hilimit, 3) + (self.b/2)*np.square(self.hilimit) + self.a*self.hilimit) - \\\n",
    "               ((self.c/3)*np.power(self.lolimit, 3) + (self.b/2)*np.square(self.lolimit) + self.a*self.lolimit)\n"
   ]
  },
  {
   "cell_type": "markdown",
   "metadata": {},
   "source": [
    "### Part 1"
   ]
  },
  {
   "cell_type": "markdown",
   "metadata": {},
   "source": [
    "```\n",
    "# Sanity check with given parameters\n",
    "\n",
    "# Fixing values for mean, lifetime, and fractional signal strength \n",
    "# to check what model parameter should (roughtly) come out of Minuit\n",
    "\n",
    "# Setting values declerated above from question\n",
    "expo = exponential(LIFETIME, np.min(x), np.max(x))\n",
    "gauss = gaussian(MEAN, SIGMA, np.min(x), np.max(x))\n",
    "N_exp = np.array((F*expo.evaluate(x) + (1-F)*gauss.evaluate(x)))\n",
    "\n",
    "norm_factor = (len(data)/np.sum(N_exp))\n",
    "plt.hist(data, bins=100, label=\"Data\", density=True)\n",
    "plt.plot(np.linspace(np.min(x), np.max(x), len(N_exp)), N_exp, label=\"Theoretical Fit\", color=\"orange\", alpha=0.9)\n",
    "plt.xlabel(\"Mass\")\n",
    "plt.ylabel(\"Frequency\")\n",
    "plt.legend()\n",
    "plt.show()"
   ]
  },
  {
   "cell_type": "markdown",
   "metadata": {},
   "source": [
    "##### i."
   ]
  },
  {
   "cell_type": "code",
   "execution_count": 135,
   "metadata": {},
   "outputs": [
    {
     "data": {
      "text/html": [
       "<table>\n",
       "    <tr>\n",
       "        <th colspan=\"5\" style=\"text-align:center\" title=\"Minimizer\"> Migrad </th>\n",
       "    </tr>\n",
       "    <tr>\n",
       "        <td colspan=\"2\" style=\"text-align:left\" title=\"Minimum value of function\"> FCN = 2.146e+05 </td>\n",
       "        <td colspan=\"3\" style=\"text-align:center\" title=\"Total number of function and (optional) gradient evaluations\"> Nfcn = 49 </td>\n",
       "    </tr>\n",
       "    <tr>\n",
       "        <td colspan=\"2\" style=\"text-align:left\" title=\"Estimated distance to minimum and goal\"> EDM = 1.89e-06 (Goal: 0.0001) </td>\n",
       "        <td colspan=\"3\" style=\"text-align:center\" title=\"Total run time of algorithms\">  </td>\n",
       "    </tr>\n",
       "    <tr>\n",
       "        <td colspan=\"2\" style=\"text-align:center;background-color:#92CCA6;color:black\"> Valid Minimum </td>\n",
       "        <td colspan=\"3\" style=\"text-align:center;background-color:#92CCA6;color:black\"> No Parameters at limit </td>\n",
       "    </tr>\n",
       "    <tr>\n",
       "        <td colspan=\"2\" style=\"text-align:center;background-color:#92CCA6;color:black\"> Below EDM threshold (goal x 10) </td>\n",
       "        <td colspan=\"3\" style=\"text-align:center;background-color:#92CCA6;color:black\"> Below call limit </td>\n",
       "    </tr>\n",
       "    <tr>\n",
       "        <td style=\"text-align:center;background-color:#92CCA6;color:black\"> Covariance </td>\n",
       "        <td style=\"text-align:center;background-color:#92CCA6;color:black\"> Hesse ok </td>\n",
       "        <td style=\"text-align:center;background-color:#92CCA6;color:black\" title=\"Is covariance matrix accurate?\"> Accurate </td>\n",
       "        <td style=\"text-align:center;background-color:#92CCA6;color:black\" title=\"Is covariance matrix positive definite?\"> Pos. def. </td>\n",
       "        <td style=\"text-align:center;background-color:#92CCA6;color:black\" title=\"Was positive definiteness enforced by Minuit?\"> Not forced </td>\n",
       "    </tr>\n",
       "</table><table>\n",
       "    <tr>\n",
       "        <td></td>\n",
       "        <th title=\"Variable name\"> Name </th>\n",
       "        <th title=\"Value of parameter\"> Value </th>\n",
       "        <th title=\"Hesse error\"> Hesse Error </th>\n",
       "        <th title=\"Minos lower error\"> Minos Error- </th>\n",
       "        <th title=\"Minos upper error\"> Minos Error+ </th>\n",
       "        <th title=\"Lower limit of the parameter\"> Limit- </th>\n",
       "        <th title=\"Upper limit of the parameter\"> Limit+ </th>\n",
       "        <th title=\"Is the parameter fixed in the fit\"> Fixed </th>\n",
       "    </tr>\n",
       "    <tr>\n",
       "        <th> 0 </th>\n",
       "        <td> mean </td>\n",
       "        <td> 2.499 </td>\n",
       "        <td> 0.015 </td>\n",
       "        <td>  </td>\n",
       "        <td>  </td>\n",
       "        <td>  </td>\n",
       "        <td>  </td>\n",
       "        <td>  </td>\n",
       "    </tr>\n",
       "    <tr>\n",
       "        <th> 1 </th>\n",
       "        <td> lifetime </td>\n",
       "        <td> 5.008 </td>\n",
       "        <td> 0.031 </td>\n",
       "        <td>  </td>\n",
       "        <td>  </td>\n",
       "        <td>  </td>\n",
       "        <td>  </td>\n",
       "        <td>  </td>\n",
       "    </tr>\n",
       "    <tr>\n",
       "        <th> 2 </th>\n",
       "        <td> F </td>\n",
       "        <td> 0.9796 </td>\n",
       "        <td> 0.0012 </td>\n",
       "        <td>  </td>\n",
       "        <td>  </td>\n",
       "        <td>  </td>\n",
       "        <td>  </td>\n",
       "        <td>  </td>\n",
       "    </tr>\n",
       "</table><table>\n",
       "    <tr>\n",
       "        <td></td>\n",
       "        <th> mean </th>\n",
       "        <th> lifetime </th>\n",
       "        <th> F </th>\n",
       "    </tr>\n",
       "    <tr>\n",
       "        <th> mean </th>\n",
       "        <td> 0.000215 </td>\n",
       "        <td style=\"background-color:rgb(245,245,250);color:black\"> -1.59e-05 <strong>(-0.035)</strong> </td>\n",
       "        <td style=\"background-color:rgb(250,245,245);color:black\"> 5.93e-07 <strong>(0.035)</strong> </td>\n",
       "    </tr>\n",
       "    <tr>\n",
       "        <th> lifetime </th>\n",
       "        <td style=\"background-color:rgb(245,245,250);color:black\"> -1.59e-05 <strong>(-0.035)</strong> </td>\n",
       "        <td> 0.000939 </td>\n",
       "        <td style=\"background-color:rgb(235,235,250);color:black\"> -4.04e-06 <strong>(-0.114)</strong> </td>\n",
       "    </tr>\n",
       "    <tr>\n",
       "        <th> F </th>\n",
       "        <td style=\"background-color:rgb(250,245,245);color:black\"> 5.93e-07 <strong>(0.035)</strong> </td>\n",
       "        <td style=\"background-color:rgb(235,235,250);color:black\"> -4.04e-06 <strong>(-0.114)</strong> </td>\n",
       "        <td> 1.33e-06 </td>\n",
       "    </tr>\n",
       "</table>"
      ],
      "text/plain": [
       "┌─────────────────────────────────────────────────────────────────────────┐\n",
       "│                                Migrad                                   │\n",
       "├──────────────────────────────────┬──────────────────────────────────────┤\n",
       "│ FCN = 2.146e+05                  │              Nfcn = 49               │\n",
       "│ EDM = 1.89e-06 (Goal: 0.0001)    │                                      │\n",
       "├──────────────────────────────────┼──────────────────────────────────────┤\n",
       "│          Valid Minimum           │        No Parameters at limit        │\n",
       "├──────────────────────────────────┼──────────────────────────────────────┤\n",
       "│ Below EDM threshold (goal x 10)  │           Below call limit           │\n",
       "├───────────────┬──────────────────┼───────────┬─────────────┬────────────┤\n",
       "│  Covariance   │     Hesse ok     │ Accurate  │  Pos. def.  │ Not forced │\n",
       "└───────────────┴──────────────────┴───────────┴─────────────┴────────────┘\n",
       "┌───┬──────────┬───────────┬───────────┬────────────┬────────────┬─────────┬─────────┬───────┐\n",
       "│   │ Name     │   Value   │ Hesse Err │ Minos Err- │ Minos Err+ │ Limit-  │ Limit+  │ Fixed │\n",
       "├───┼──────────┼───────────┼───────────┼────────────┼────────────┼─────────┼─────────┼───────┤\n",
       "│ 0 │ mean     │   2.499   │   0.015   │            │            │         │         │       │\n",
       "│ 1 │ lifetime │   5.008   │   0.031   │            │            │         │         │       │\n",
       "│ 2 │ F        │  0.9796   │  0.0012   │            │            │         │         │       │\n",
       "└───┴──────────┴───────────┴───────────┴────────────┴────────────┴─────────┴─────────┴───────┘\n",
       "┌──────────┬───────────────────────────────┐\n",
       "│          │      mean  lifetime         F │\n",
       "├──────────┼───────────────────────────────┤\n",
       "│     mean │  0.000215 -1.59e-05  5.93e-07 │\n",
       "│ lifetime │ -1.59e-05  0.000939 -4.04e-06 │\n",
       "│        F │  5.93e-07 -4.04e-06  1.33e-06 │\n",
       "└──────────┴───────────────────────────────┘"
      ]
     },
     "execution_count": 135,
     "metadata": {},
     "output_type": "execute_result"
    }
   ],
   "source": [
    "def min_func(mean, lifetime, F):\n",
    "    \"\"\"\n",
    "    Function to minimize with an exponential (background) and gaussian (signal) fit\n",
    "\n",
    "    Parameters\n",
    "    ----------\n",
    "    mean : float\n",
    "        Mean of the gaussian\n",
    "    lifetime : float\n",
    "        Lifetime of the exponential\n",
    "    F : float\n",
    "        Fraction of background strength\n",
    "\n",
    "    Returns\n",
    "    -------\n",
    "    float\n",
    "        Negative log likelihood\n",
    "    \"\"\"\n",
    "    \n",
    "    expo = exponential(lifetime, 0, 10)\n",
    "    gauss = gaussian(mean, SIGMA, 0, 10)\n",
    "\n",
    "    pdf = np.array(F*expo.evaluate(data) + (1-F)*gauss.evaluate(data))\n",
    "    #pdf[pdf == 0] = 1e-10\n",
    "    \n",
    "    return -np.sum(np.log(pdf))\n",
    "\n",
    "startvals = {\n",
    "        'lifetime': LIFETIME,\n",
    "        'mean': MEAN,\n",
    "        'F': F,\n",
    "    }\n",
    "\n",
    "Min = Minuit(min_func, **startvals)\n",
    "Min.errordef = 0.5\n",
    "Min.hesse()\n",
    "Min.migrad()  # find minimum"
   ]
  },
  {
   "cell_type": "markdown",
   "metadata": {},
   "source": [
    "```\n",
    "# Calculating the y values for the best fit model with the minisised values\n",
    "MEAN, LIFETIME, F = Min.values[0:]\n",
    "expo = exponential(LIFETIME, np.min(x), np.max(x))\n",
    "gauss = gaussian(MEAN, SIGMA, np.min(x), np.max(x))\n",
    "\n",
    "N_exp = np.array((F*expo.evaluate(x) + (1-F)*gauss.evaluate(x)))\n",
    "\n",
    "norm_factor = (len(data)/np.sum(N_exp))\n",
    "plt.hist(data, bins=100, label=\"Data\", alpha=0.8, density=True)\n",
    "plt.plot(np.linspace(np.min(x), np.max(x), len(N_exp)), N_exp, label=\"Minimised Fit\", color=\"red\")\n",
    "plt.xlabel(\"Mass\")\n",
    "plt.ylabel(\"Frequency\")\n",
    "plt.legend()\n",
    "plt.show()"
   ]
  },
  {
   "cell_type": "markdown",
   "metadata": {},
   "source": [
    "ii. Determine the statistical errors on each fit parameter <br>\n",
    "• If using optimise you will have to write a bit of code to find the NLL+0.5 points <br>\n",
    "• If using Minuit then errors come free in the fit - but remember to set errordef=0.5\n",
    "<p>\n",
    "iii. Present the best fit values and errors on all parameters in clear way, i.e. with descriptive text and numerical results presented as: M = Value ± E<sub>stat</sub>\n",
    "<p>\n",
    "iv. Make sure the number of digits quoted is sensible – quote errors to 2 significant digits"
   ]
  },
  {
   "cell_type": "code",
   "execution_count": 136,
   "metadata": {},
   "outputs": [
    {
     "name": "stdout",
     "output_type": "stream",
     "text": [
      "Gaussian mean: 2.5 ± 0.015\n",
      "Mean lifetime: 5.0 ± 0.031\n",
      "Signal Fraction: 0.98 ± 0.0012\n"
     ]
    }
   ],
   "source": [
    "MEAN, LIFETIME, F = Min.values[0:]\n",
    "mean_err, lifetime_err, F_err = Min.errors[0:]\n",
    "\n",
    "print(\"Gaussian mean: {:.1f} \\u00B1 {:.2g}\".format(MEAN, mean_err))\n",
    "print(\"Mean lifetime: {:.1f} \\u00B1 {:.2g}\".format(LIFETIME, lifetime_err))\n",
    "print(\"Signal Fraction: {:.2f} \\u00B1 {:.2g}\".format(F, F_err))"
   ]
  },
  {
   "cell_type": "markdown",
   "metadata": {},
   "source": [
    "### Part 2"
   ]
  },
  {
   "cell_type": "markdown",
   "metadata": {},
   "source": [
    "```\n",
    "def min_chi2(lifetime, mean, F):\n",
    "    # Defined a Minuit specific funtion for chi^2 minimisation\n",
    "    # for null Hypothesis only, therefore set with flat + guassian model\n",
    "\n",
    "    expo = exponential(lifetime)\n",
    "    gauss = gaussian(mean, sigma)\n",
    "\n",
    "    total = 0.\n",
    "    for x_val, N_obs in zip(x, y):\n",
    "        N_exp = F*expo.evaluate(x_val) + (1-F)*gauss.evaluate(x_val)\n",
    "        if N_exp < 0.:\n",
    "            N_exp = 1e-20\n",
    "\n",
    "        #print(N_obs, N_exp, np.log(N_obs/N_exp))\n",
    "        total += (N_exp - N_obs + (N_obs*np.log(N_obs/N_exp)))\n",
    "    return (2*total)\n",
    "\n",
    "\n",
    "for i in bins:\n",
    "    startvals_H1 = {\n",
    "            'intercept': 1,\n",
    "            'mean': i\n",
    "        }\n",
    "\n",
    "    Min_H1 = Minuit(min_chi2_H1, **startvals_H1)\n",
    "    Min_H1.fixed['mean'] = True\n",
    "    Min_H1.hesse()\n",
    "    Min_H1.migrad()  # find minimum\n",
    "\n",
    "    Chi_2_H1 = min_chi2_H1(Min_H1.values['intercept']-1, Min_H1.values['mean'])\n",
    "    Chi_2_diff.append(Chi_2_H0 - Chi_2_H1)\n",
    "\n",
    "Chi_2_diff = np.array(Chi_2_diff)"
   ]
  },
  {
   "cell_type": "markdown",
   "metadata": {},
   "source": [
    "##### i, ii."
   ]
  },
  {
   "cell_type": "markdown",
   "metadata": {},
   "source": [
    "```\n",
    "# Sanity check block \n",
    "\n",
    "# Fixing values for mean, lifetime, and fractional signal strength \n",
    "# with given parameters to check what model parameter should come \n",
    "# out of Minuit and veryfing normalisation factor are correct\n",
    "\n",
    "poly = polynomial(1, -0.16, 0.007, 0, 10)\n",
    "gauss = gaussian(2.5, 0.2, 0, 10)\n",
    "F = 0.98\n",
    "N_exp = np.array((F*poly.evaluate(x) + (1-F)*gauss.evaluate(x)))\n",
    "\n",
    "norm_factor = (len(data)/np.sum(N_exp))\n",
    "plt.hist(data, bins=100, label=\"Data\", density=True)\n",
    "plt.plot(np.linspace(np.min(x), np.max(x), len(N_exp)), N_exp, label=\"Theoretical Fit\", color=\"orange\", alpha=0.9)\n",
    "plt.xlabel(\"Mass\")\n",
    "plt.ylabel(\"Frequency\")\n",
    "plt.legend()\n",
    "plt.show()"
   ]
  },
  {
   "cell_type": "code",
   "execution_count": 137,
   "metadata": {},
   "outputs": [
    {
     "data": {
      "text/html": [
       "<table>\n",
       "    <tr>\n",
       "        <th colspan=\"5\" style=\"text-align:center\" title=\"Minimizer\"> Migrad </th>\n",
       "    </tr>\n",
       "    <tr>\n",
       "        <td colspan=\"2\" style=\"text-align:left\" title=\"Minimum value of function\"> FCN = 2.146e+05 </td>\n",
       "        <td colspan=\"3\" style=\"text-align:center\" title=\"Total number of function and (optional) gradient evaluations\"> Nfcn = 101 </td>\n",
       "    </tr>\n",
       "    <tr>\n",
       "        <td colspan=\"2\" style=\"text-align:left\" title=\"Estimated distance to minimum and goal\"> EDM = 6.87e-07 (Goal: 0.0001) </td>\n",
       "        <td colspan=\"3\" style=\"text-align:center\" title=\"Total run time of algorithms\">  </td>\n",
       "    </tr>\n",
       "    <tr>\n",
       "        <td colspan=\"2\" style=\"text-align:center;background-color:#92CCA6;color:black\"> Valid Minimum </td>\n",
       "        <td colspan=\"3\" style=\"text-align:center;background-color:#92CCA6;color:black\"> No Parameters at limit </td>\n",
       "    </tr>\n",
       "    <tr>\n",
       "        <td colspan=\"2\" style=\"text-align:center;background-color:#92CCA6;color:black\"> Below EDM threshold (goal x 10) </td>\n",
       "        <td colspan=\"3\" style=\"text-align:center;background-color:#92CCA6;color:black\"> Below call limit </td>\n",
       "    </tr>\n",
       "    <tr>\n",
       "        <td style=\"text-align:center;background-color:#92CCA6;color:black\"> Covariance </td>\n",
       "        <td style=\"text-align:center;background-color:#92CCA6;color:black\"> Hesse ok </td>\n",
       "        <td style=\"text-align:center;background-color:#92CCA6;color:black\" title=\"Is covariance matrix accurate?\"> Accurate </td>\n",
       "        <td style=\"text-align:center;background-color:#92CCA6;color:black\" title=\"Is covariance matrix positive definite?\"> Pos. def. </td>\n",
       "        <td style=\"text-align:center;background-color:#92CCA6;color:black\" title=\"Was positive definiteness enforced by Minuit?\"> Not forced </td>\n",
       "    </tr>\n",
       "</table><table>\n",
       "    <tr>\n",
       "        <td></td>\n",
       "        <th title=\"Variable name\"> Name </th>\n",
       "        <th title=\"Value of parameter\"> Value </th>\n",
       "        <th title=\"Hesse error\"> Hesse Error </th>\n",
       "        <th title=\"Minos lower error\"> Minos Error- </th>\n",
       "        <th title=\"Minos upper error\"> Minos Error+ </th>\n",
       "        <th title=\"Lower limit of the parameter\"> Limit- </th>\n",
       "        <th title=\"Upper limit of the parameter\"> Limit+ </th>\n",
       "        <th title=\"Is the parameter fixed in the fit\"> Fixed </th>\n",
       "    </tr>\n",
       "    <tr>\n",
       "        <th> 0 </th>\n",
       "        <td> mean </td>\n",
       "        <td> 2.494 </td>\n",
       "        <td> 0.015 </td>\n",
       "        <td>  </td>\n",
       "        <td>  </td>\n",
       "        <td>  </td>\n",
       "        <td>  </td>\n",
       "        <td>  </td>\n",
       "    </tr>\n",
       "    <tr>\n",
       "        <th> 1 </th>\n",
       "        <td> b_a </td>\n",
       "        <td> -0.1578 </td>\n",
       "        <td> 0.0012 </td>\n",
       "        <td>  </td>\n",
       "        <td>  </td>\n",
       "        <td>  </td>\n",
       "        <td>  </td>\n",
       "        <td>  </td>\n",
       "    </tr>\n",
       "    <tr>\n",
       "        <th> 2 </th>\n",
       "        <td> c_a </td>\n",
       "        <td> 7.30e-3 </td>\n",
       "        <td> 0.14e-3 </td>\n",
       "        <td>  </td>\n",
       "        <td>  </td>\n",
       "        <td>  </td>\n",
       "        <td>  </td>\n",
       "        <td>  </td>\n",
       "    </tr>\n",
       "    <tr>\n",
       "        <th> 3 </th>\n",
       "        <td> F </td>\n",
       "        <td> 0.9820 </td>\n",
       "        <td> 0.0012 </td>\n",
       "        <td>  </td>\n",
       "        <td>  </td>\n",
       "        <td>  </td>\n",
       "        <td>  </td>\n",
       "        <td>  </td>\n",
       "    </tr>\n",
       "</table><table>\n",
       "    <tr>\n",
       "        <td></td>\n",
       "        <th> mean </th>\n",
       "        <th> b_a </th>\n",
       "        <th> c_a </th>\n",
       "        <th> F </th>\n",
       "    </tr>\n",
       "    <tr>\n",
       "        <th> mean </th>\n",
       "        <td> 0.000231 </td>\n",
       "        <td style=\"background-color:rgb(242,242,250);color:black\"> -1.06e-06 <strong>(-0.058)</strong> </td>\n",
       "        <td style=\"background-color:rgb(250,242,242);color:black\"> 1.14e-07 <strong>(0.056)</strong> </td>\n",
       "        <td style=\"background-color:rgb(250,248,248);color:black\"> 2.31e-07 <strong>(0.013)</strong> </td>\n",
       "    </tr>\n",
       "    <tr>\n",
       "        <th> b_a </th>\n",
       "        <td style=\"background-color:rgb(242,242,250);color:black\"> -1.06e-06 <strong>(-0.058)</strong> </td>\n",
       "        <td> 1.44e-06 </td>\n",
       "        <td style=\"background-color:rgb(122,122,250);color:black\"> -1.6e-07 <strong>(-0.984)</strong> </td>\n",
       "        <td style=\"background-color:rgb(250,248,248);color:black\"> 2.01e-08 <strong>(0.015)</strong> </td>\n",
       "    </tr>\n",
       "    <tr>\n",
       "        <th> c_a </th>\n",
       "        <td style=\"background-color:rgb(250,242,242);color:black\"> 1.14e-07 <strong>(0.056)</strong> </td>\n",
       "        <td style=\"background-color:rgb(122,122,250);color:black\"> -1.6e-07 <strong>(-0.984)</strong> </td>\n",
       "        <td> 1.83e-08 </td>\n",
       "        <td style=\"background-color:rgb(245,245,250);color:black\"> -6.19e-09 <strong>(-0.040)</strong> </td>\n",
       "    </tr>\n",
       "    <tr>\n",
       "        <th> F </th>\n",
       "        <td style=\"background-color:rgb(250,248,248);color:black\"> 2.31e-07 <strong>(0.013)</strong> </td>\n",
       "        <td style=\"background-color:rgb(250,248,248);color:black\"> 2.01e-08 <strong>(0.015)</strong> </td>\n",
       "        <td style=\"background-color:rgb(245,245,250);color:black\"> -6.19e-09 <strong>(-0.040)</strong> </td>\n",
       "        <td> 1.33e-06 </td>\n",
       "    </tr>\n",
       "</table>"
      ],
      "text/plain": [
       "┌─────────────────────────────────────────────────────────────────────────┐\n",
       "│                                Migrad                                   │\n",
       "├──────────────────────────────────┬──────────────────────────────────────┤\n",
       "│ FCN = 2.146e+05                  │              Nfcn = 101              │\n",
       "│ EDM = 6.87e-07 (Goal: 0.0001)    │                                      │\n",
       "├──────────────────────────────────┼──────────────────────────────────────┤\n",
       "│          Valid Minimum           │        No Parameters at limit        │\n",
       "├──────────────────────────────────┼──────────────────────────────────────┤\n",
       "│ Below EDM threshold (goal x 10)  │           Below call limit           │\n",
       "├───────────────┬──────────────────┼───────────┬─────────────┬────────────┤\n",
       "│  Covariance   │     Hesse ok     │ Accurate  │  Pos. def.  │ Not forced │\n",
       "└───────────────┴──────────────────┴───────────┴─────────────┴────────────┘\n",
       "┌───┬──────┬───────────┬───────────┬────────────┬────────────┬─────────┬─────────┬───────┐\n",
       "│   │ Name │   Value   │ Hesse Err │ Minos Err- │ Minos Err+ │ Limit-  │ Limit+  │ Fixed │\n",
       "├───┼──────┼───────────┼───────────┼────────────┼────────────┼─────────┼─────────┼───────┤\n",
       "│ 0 │ mean │   2.494   │   0.015   │            │            │         │         │       │\n",
       "│ 1 │ b_a  │  -0.1578  │  0.0012   │            │            │         │         │       │\n",
       "│ 2 │ c_a  │  7.30e-3  │  0.14e-3  │            │            │         │         │       │\n",
       "│ 3 │ F    │  0.9820   │  0.0012   │            │            │         │         │       │\n",
       "└───┴──────┴───────────┴───────────┴────────────┴────────────┴─────────┴─────────┴───────┘\n",
       "┌──────┬─────────────────────────────────────────┐\n",
       "│      │      mean       b_a       c_a         F │\n",
       "├──────┼─────────────────────────────────────────┤\n",
       "│ mean │  0.000231 -1.06e-06  1.14e-07  2.31e-07 │\n",
       "│  b_a │ -1.06e-06  1.44e-06  -1.6e-07  2.01e-08 │\n",
       "│  c_a │  1.14e-07  -1.6e-07  1.83e-08 -6.19e-09 │\n",
       "│    F │  2.31e-07  2.01e-08 -6.19e-09  1.33e-06 │\n",
       "└──────┴─────────────────────────────────────────┘"
      ]
     },
     "execution_count": 137,
     "metadata": {},
     "output_type": "execute_result"
    }
   ],
   "source": [
    "def min_func_poly(mean, b_a, c_a, F):\n",
    "    \"\"\"\n",
    "    Function to minimize for polynomial fit\n",
    "\n",
    "    Parameters\n",
    "    ----------\n",
    "    mean : float\n",
    "        Mean of the gaussian\n",
    "    b_a : float\n",
    "        Coefficient of the linear term in terms of A (b/a)\n",
    "    c_a : float\n",
    "        Coefficient of the quadratic term in terms of A (c/a)\n",
    "    F : float\n",
    "        Fraction of background strength\n",
    "    \n",
    "    Returns\n",
    "    -------\n",
    "    float\n",
    "        Negative log likelihood\n",
    "    \"\"\"\n",
    "    \n",
    "    b = b_a * A\n",
    "    c = c_a * A\n",
    "\n",
    "    poly = polynomial(A, b, c, 0, 10)\n",
    "    gauss = gaussian(mean, SIGMA, 0, 10)\n",
    "\n",
    "    pdf = np.array(F*poly.evaluate(data) + (1-F)*gauss.evaluate(data))\n",
    "    #pdf[pdf == 0] = 1e-10\n",
    "    \n",
    "    return -np.sum(np.log(pdf))\n",
    "\n",
    "A = 1\n",
    "startvals = {\n",
    "        'b_a': -0.16,\n",
    "        'c_a': 0.007,\n",
    "        'mean': 2.5,\n",
    "        'F': 0.98,\n",
    "    }\n",
    "\n",
    "Min_Poly = Minuit(min_func_poly, **startvals)\n",
    "Min_Poly.errordef = 0.5\n",
    "Min_Poly.hesse()\n",
    "Min_Poly.migrad()  # find minimum"
   ]
  },
  {
   "cell_type": "code",
   "execution_count": 138,
   "metadata": {},
   "outputs": [
    {
     "name": "stdout",
     "output_type": "stream",
     "text": [
      "Polynomial Fit Parameters:\n",
      "--------------------------\n",
      "The Gaussian Mean: 2.49 ± 0.015\n",
      "b/a Parmeter: -0.158 ± 0.0012\n",
      "c/a Parmeter: 0.0073 ± 0.00014\n",
      "Fraction F: 0.98 ± 0.0012\n"
     ]
    }
   ],
   "source": [
    "print(\"Polynomial Fit Parameters:\")\n",
    "print(\"--------------------------\")\n",
    "\n",
    "MEAN_POLY, B_A, C_A, F = Min_Poly.values[0:]\n",
    "mean_err_poly, b_a_err, c_a_err, F_err_poly = Min_Poly.errors[0:]\n",
    "\n",
    "print(\"The Gaussian Mean: {:.3g} \\u00B1 {:.2g}\".format(MEAN_POLY, mean_err))\n",
    "print(\"b/a Parmeter: {:.3g} \\u00B1 {:.2g}\".format(B_A, b_a_err))\n",
    "print(\"c/a Parmeter: {:.3g} \\u00B1 {:.2g}\".format(C_A, c_a_err))\n",
    "print(\"Fraction F: {:.2g} \\u00B1 {:.2g}\".format(F, F_err))"
   ]
  },
  {
   "cell_type": "markdown",
   "metadata": {},
   "source": [
    "##### iii."
   ]
  },
  {
   "cell_type": "code",
   "execution_count": 152,
   "metadata": {},
   "outputs": [
    {
     "name": "stdout",
     "output_type": "stream",
     "text": [
      "Mean of the Gaussian: 2.5 ± 0.015 ± 0.0042\n"
     ]
    }
   ],
   "source": [
    "E_syst = np.abs(MEAN - MEAN_POLY)\n",
    "print(\"Mean of the Gaussian: {:.3g} \\u00B1 {:.2g} \\u00B1 {:.2g}\".format(MEAN, mean_err, E_syst))"
   ]
  },
  {
   "cell_type": "markdown",
   "metadata": {},
   "source": [
    "##### iv."
   ]
  },
  {
   "cell_type": "code",
   "execution_count": 153,
   "metadata": {},
   "outputs": [
    {
     "name": "stdout",
     "output_type": "stream",
     "text": [
      "Mean of the Gaussian: 2.5 ± 0.015\n"
     ]
    }
   ],
   "source": [
    "E_tot = np.sqrt(np.square(mean_err) + np.square(E_syst))\n",
    "print(\"Mean of the Gaussian: {:.3g} \\u00B1 {:.2g}\".format(MEAN, E_tot))"
   ]
  },
  {
   "cell_type": "markdown",
   "metadata": {},
   "source": [
    "##### v."
   ]
  },
  {
   "cell_type": "markdown",
   "metadata": {},
   "source": [
    "Considering the systematic error (to 2 significant figures) estimated with the polynomial and exponential models for the background, it doesn't make a large change the in total error. This error is negligible and it can be ignored. The systematic is only considered if it is approximately equal to the statical error."
   ]
  },
  {
   "cell_type": "markdown",
   "metadata": {},
   "source": [
    "```\n",
    "# Sanity check block \n",
    "\n",
    "# Calculating the y values for the best fit model with the minisised values\n",
    "gauss = gaussian(MEAN, SIGMA, np.min(x), np.max(x))\n",
    "\n",
    "MEAN_exp, LIFETIME, F_EXP = Min.values[0:]\n",
    "expo = exponential(LIFETIME, np.min(x), np.max(x))\n",
    "N_exp_exp = np.array((F_EXP*expo.evaluate(x) + (1-F_EXP)*gauss.evaluate(x)))\n",
    "\n",
    "MEAN_poly, B_A, C_A, F_POLY = Min_Poly.values[0:]\n",
    "poly = polynomial(A, B_A, C_A, 0, 10)\n",
    "N_exp_poly = np.array((F_POLY*poly.evaluate(x) + (1-F_POLY)*gauss.evaluate(x)))\n",
    "\n",
    "norm_factor = (len(data)/np.sum(N_exp))\n",
    "plt.hist(data, bins=100, label=\"Data\", alpha=0.8, density=True)\n",
    "plt.plot(np.linspace(np.min(x), np.max(x), len(N_exp_poly)), N_exp_poly, label=\"Minimised Fit Polynomial\", color=\"red\")\n",
    "plt.plot(np.linspace(np.min(x), np.max(x), len(N_exp_exp)), N_exp_exp, label=\"Minimised Fit Exponential\", color=\"green\")\n",
    "plt.xlabel(\"Mass\")\n",
    "plt.ylabel(\"Frequency\")\n",
    "plt.legend()\n",
    "plt.show()"
   ]
  },
  {
   "cell_type": "markdown",
   "metadata": {},
   "source": [
    "### Part 3"
   ]
  },
  {
   "cell_type": "markdown",
   "metadata": {},
   "source": [
    "##### i."
   ]
  },
  {
   "cell_type": "code",
   "execution_count": 141,
   "metadata": {},
   "outputs": [
    {
     "data": {
      "text/html": [
       "<table>\n",
       "    <tr>\n",
       "        <th colspan=\"5\" style=\"text-align:center\" title=\"Minimizer\"> Migrad </th>\n",
       "    </tr>\n",
       "    <tr>\n",
       "        <td colspan=\"2\" style=\"text-align:left\" title=\"Minimum value of function\"> FCN = 2.155e+05 </td>\n",
       "        <td colspan=\"3\" style=\"text-align:center\" title=\"Total number of function and (optional) gradient evaluations\"> Nfcn = 56 </td>\n",
       "    </tr>\n",
       "    <tr>\n",
       "        <td colspan=\"2\" style=\"text-align:left\" title=\"Estimated distance to minimum and goal\"> EDM = 6.71e-05 (Goal: 0.0001) </td>\n",
       "        <td colspan=\"3\" style=\"text-align:center\" title=\"Total run time of algorithms\">  </td>\n",
       "    </tr>\n",
       "    <tr>\n",
       "        <td colspan=\"2\" style=\"text-align:center;background-color:#92CCA6;color:black\"> Valid Minimum </td>\n",
       "        <td colspan=\"3\" style=\"text-align:center;background-color:#92CCA6;color:black\"> No Parameters at limit </td>\n",
       "    </tr>\n",
       "    <tr>\n",
       "        <td colspan=\"2\" style=\"text-align:center;background-color:#92CCA6;color:black\"> Below EDM threshold (goal x 10) </td>\n",
       "        <td colspan=\"3\" style=\"text-align:center;background-color:#92CCA6;color:black\"> Below call limit </td>\n",
       "    </tr>\n",
       "    <tr>\n",
       "        <td style=\"text-align:center;background-color:#92CCA6;color:black\"> Covariance </td>\n",
       "        <td style=\"text-align:center;background-color:#92CCA6;color:black\"> Hesse ok </td>\n",
       "        <td style=\"text-align:center;background-color:#92CCA6;color:black\" title=\"Is covariance matrix accurate?\"> Accurate </td>\n",
       "        <td style=\"text-align:center;background-color:#92CCA6;color:black\" title=\"Is covariance matrix positive definite?\"> Pos. def. </td>\n",
       "        <td style=\"text-align:center;background-color:#92CCA6;color:black\" title=\"Was positive definiteness enforced by Minuit?\"> Not forced </td>\n",
       "    </tr>\n",
       "</table><table>\n",
       "    <tr>\n",
       "        <td></td>\n",
       "        <th title=\"Variable name\"> Name </th>\n",
       "        <th title=\"Value of parameter\"> Value </th>\n",
       "        <th title=\"Hesse error\"> Hesse Error </th>\n",
       "        <th title=\"Minos lower error\"> Minos Error- </th>\n",
       "        <th title=\"Minos upper error\"> Minos Error+ </th>\n",
       "        <th title=\"Lower limit of the parameter\"> Limit- </th>\n",
       "        <th title=\"Upper limit of the parameter\"> Limit+ </th>\n",
       "        <th title=\"Is the parameter fixed in the fit\"> Fixed </th>\n",
       "    </tr>\n",
       "    <tr>\n",
       "        <th> 0 </th>\n",
       "        <td> mean </td>\n",
       "        <td> 2.466 </td>\n",
       "        <td> 0.015 </td>\n",
       "        <td>  </td>\n",
       "        <td>  </td>\n",
       "        <td>  </td>\n",
       "        <td>  </td>\n",
       "        <td>  </td>\n",
       "    </tr>\n",
       "    <tr>\n",
       "        <th> 1 </th>\n",
       "        <td> b_a </td>\n",
       "        <td> -90.40e-3 </td>\n",
       "        <td> 0.23e-3 </td>\n",
       "        <td>  </td>\n",
       "        <td>  </td>\n",
       "        <td>  </td>\n",
       "        <td>  </td>\n",
       "        <td>  </td>\n",
       "    </tr>\n",
       "    <tr>\n",
       "        <th> 2 </th>\n",
       "        <td> F </td>\n",
       "        <td> 0.9801 </td>\n",
       "        <td> 0.0012 </td>\n",
       "        <td>  </td>\n",
       "        <td>  </td>\n",
       "        <td>  </td>\n",
       "        <td>  </td>\n",
       "        <td>  </td>\n",
       "    </tr>\n",
       "</table><table>\n",
       "    <tr>\n",
       "        <td></td>\n",
       "        <th> mean </th>\n",
       "        <th> b_a </th>\n",
       "        <th> F </th>\n",
       "    </tr>\n",
       "    <tr>\n",
       "        <th> mean </th>\n",
       "        <td> 0.000232 </td>\n",
       "        <td style=\"background-color:rgb(243,243,250);color:black\"> -1.87e-07 <strong>(-0.054)</strong> </td>\n",
       "        <td style=\"background-color:rgb(250,243,243);color:black\"> 7.97e-07 <strong>(0.045)</strong> </td>\n",
       "    </tr>\n",
       "    <tr>\n",
       "        <th> b_a </th>\n",
       "        <td style=\"background-color:rgb(243,243,250);color:black\"> -1.87e-07 <strong>(-0.054)</strong> </td>\n",
       "        <td> 5.23e-08 </td>\n",
       "        <td style=\"background-color:rgb(230,230,250);color:black\"> -4.07e-08 <strong>(-0.152)</strong> </td>\n",
       "    </tr>\n",
       "    <tr>\n",
       "        <th> F </th>\n",
       "        <td style=\"background-color:rgb(250,243,243);color:black\"> 7.97e-07 <strong>(0.045)</strong> </td>\n",
       "        <td style=\"background-color:rgb(230,230,250);color:black\"> -4.07e-08 <strong>(-0.152)</strong> </td>\n",
       "        <td> 1.37e-06 </td>\n",
       "    </tr>\n",
       "</table>"
      ],
      "text/plain": [
       "┌─────────────────────────────────────────────────────────────────────────┐\n",
       "│                                Migrad                                   │\n",
       "├──────────────────────────────────┬──────────────────────────────────────┤\n",
       "│ FCN = 2.155e+05                  │              Nfcn = 56               │\n",
       "│ EDM = 6.71e-05 (Goal: 0.0001)    │                                      │\n",
       "├──────────────────────────────────┼──────────────────────────────────────┤\n",
       "│          Valid Minimum           │        No Parameters at limit        │\n",
       "├──────────────────────────────────┼──────────────────────────────────────┤\n",
       "│ Below EDM threshold (goal x 10)  │           Below call limit           │\n",
       "├───────────────┬──────────────────┼───────────┬─────────────┬────────────┤\n",
       "│  Covariance   │     Hesse ok     │ Accurate  │  Pos. def.  │ Not forced │\n",
       "└───────────────┴──────────────────┴───────────┴─────────────┴────────────┘\n",
       "┌───┬──────┬───────────┬───────────┬────────────┬────────────┬─────────┬─────────┬───────┐\n",
       "│   │ Name │   Value   │ Hesse Err │ Minos Err- │ Minos Err+ │ Limit-  │ Limit+  │ Fixed │\n",
       "├───┼──────┼───────────┼───────────┼────────────┼────────────┼─────────┼─────────┼───────┤\n",
       "│ 0 │ mean │   2.466   │   0.015   │            │            │         │         │       │\n",
       "│ 1 │ b_a  │ -90.40e-3 │  0.23e-3  │            │            │         │         │       │\n",
       "│ 2 │ F    │  0.9801   │  0.0012   │            │            │         │         │       │\n",
       "└───┴──────┴───────────┴───────────┴────────────┴────────────┴─────────┴─────────┴───────┘\n",
       "┌──────┬───────────────────────────────┐\n",
       "│      │      mean       b_a         F │\n",
       "├──────┼───────────────────────────────┤\n",
       "│ mean │  0.000232 -1.87e-07  7.97e-07 │\n",
       "│  b_a │ -1.87e-07  5.23e-08 -4.07e-08 │\n",
       "│    F │  7.97e-07 -4.07e-08  1.37e-06 │\n",
       "└──────┴───────────────────────────────┘"
      ]
     },
     "execution_count": 141,
     "metadata": {},
     "output_type": "execute_result"
    }
   ],
   "source": [
    "def min_func_lin(mean, b_a, F):\n",
    "    \"\"\"\n",
    "    Function to minimize for linear fit\n",
    "\n",
    "    Parameters\n",
    "    ----------\n",
    "    mean: float\n",
    "        Mean of the gaussian\n",
    "    slope: float\n",
    "        Slope of the linear term\n",
    "    intercept: float\n",
    "        Intercept of the linear term\n",
    "    F: float\n",
    "        Fraction of background strength\n",
    "    \n",
    "    Returns\n",
    "    -------\n",
    "    float\n",
    "        Negative log likelihood    \n",
    "    \"\"\"\n",
    "    B = b_a * A\n",
    "    lin = linear(A, B, 0, 10)\n",
    "    gauss = gaussian(mean, SIGMA, 0, 10)\n",
    "\n",
    "    pdf = np.array(F*lin.evaluate(data) + (1-F)*gauss.evaluate(data))\n",
    "\n",
    "    return -np.sum(np.log(pdf))\n",
    "\n",
    "A = 1\n",
    "startvals = {\n",
    "        'b_a': -0.09,\n",
    "        'mean': 2.5,\n",
    "        'F': 0.98,\n",
    "    }\n",
    "\n",
    "Min_lin = Minuit(min_func_lin, **startvals)\n",
    "Min_lin.errordef = 0.5\n",
    "Min_lin.hesse()\n",
    "Min_lin.migrad()  # find minimum"
   ]
  },
  {
   "cell_type": "markdown",
   "metadata": {},
   "source": [
    "```\n",
    "# Sanity check block \n",
    "\n",
    "# Fixing values for mean, lifetime, and fractional signal strength \n",
    "# with given parameters to check what model parameter should come \n",
    "# out of Minuit and veryfing normalisation factor are correct\n",
    "\n",
    "mean, b_a, F = Min_lin.values[0:]\n",
    "\n",
    "B = b_a * A\n",
    "lin = linear(A, B, 0, 10)\n",
    "gauss = gaussian(mean, 0.2, 0, 10)\n",
    "\n",
    "N_exp = np.array((F*lin.evaluate(x) + (1-F)*gauss.evaluate(x)))\n",
    "\n",
    "norm_factor = (len(data)/np.sum(N_exp))\n",
    "plt.hist(data, bins=100, label=\"Data\")\n",
    "plt.plot(np.linspace(np.min(x), np.max(x), len(N_exp)), N_exp*norm_factor, label=\"Linear Fit\", color=\"red\")\n",
    "plt.xlabel(\"Mass\")\n",
    "plt.ylabel(\"Frequency\")\n",
    "plt.legend()\n",
    "plt.show()"
   ]
  },
  {
   "cell_type": "code",
   "execution_count": 142,
   "metadata": {},
   "outputs": [
    {
     "name": "stdout",
     "output_type": "stream",
     "text": [
      "Linear Fit Parameters:\n",
      "--------------------------\n",
      "The Gaussian Mean: 2.47 ± 0.015\n",
      "b/a Parmeter: -0.0904 ± 0.00023\n",
      "Fraction F: 0.98 ± 0.0012\n"
     ]
    }
   ],
   "source": [
    "print(\"Linear Fit Parameters:\")\n",
    "print(\"--------------------------\")\n",
    "\n",
    "MEAN_LIN, B_A, F = Min_lin.values[0:]\n",
    "mean_err_lin, b_a_err_lin, F_err_lin = Min_lin.errors[0:]\n",
    "\n",
    "print(\"The Gaussian Mean: {:.3g} \\u00B1 {:.2g}\".format(MEAN_LIN, mean_err_lin))\n",
    "print(\"b/a Parmeter: {:.3g} \\u00B1 {:.2g}\".format(B_A, b_a_err_lin))\n",
    "print(\"Fraction F: {:.2g} \\u00B1 {:.2g}\".format(F, F_err_lin))"
   ]
  },
  {
   "cell_type": "markdown",
   "metadata": {},
   "source": [
    "##### ii."
   ]
  },
  {
   "cell_type": "code",
   "execution_count": 143,
   "metadata": {},
   "outputs": [
    {
     "name": "stdout",
     "output_type": "stream",
     "text": [
      "Mean of the Gaussian: 2.5 ± 0.015 ± 0.033\n"
     ]
    }
   ],
   "source": [
    "E_syst = np.abs(MEAN - MEAN_LIN)\n",
    "print(\"Mean of the Gaussian: {:.2g} \\u00B1 {:.2g} \\u00B1 {:.2g}\".format(MEAN, mean_err_lin, E_syst))"
   ]
  },
  {
   "cell_type": "markdown",
   "metadata": {},
   "source": [
    "##### iii."
   ]
  },
  {
   "cell_type": "code",
   "execution_count": 144,
   "metadata": {},
   "outputs": [
    {
     "name": "stdout",
     "output_type": "stream",
     "text": [
      "Mean of the Gaussian: 2.5 ± 0.036\n"
     ]
    }
   ],
   "source": [
    "E_tot = np.sqrt(np.square(mean_err) + np.square(E_syst))\n",
    "print(\"Mean of the Gaussian: {:.2g} \\u00B1 {:.2g}\".format(MEAN, E_tot))"
   ]
  },
  {
   "cell_type": "markdown",
   "metadata": {},
   "source": [
    "##### iv."
   ]
  },
  {
   "cell_type": "markdown",
   "metadata": {},
   "source": [
    "Using the linear model for this case, the statical error is slightly lower than the systematic error and therefore has to be considered into the total error on the mean. The value for the total error has been changed significantly, unlike the previous case. "
   ]
  },
  {
   "cell_type": "markdown",
   "metadata": {},
   "source": []
  }
 ],
 "metadata": {
  "kernelspec": {
   "display_name": "daml",
   "language": "python",
   "name": "python3"
  },
  "language_info": {
   "codemirror_mode": {
    "name": "ipython",
    "version": 3
   },
   "file_extension": ".py",
   "mimetype": "text/x-python",
   "name": "python",
   "nbconvert_exporter": "python",
   "pygments_lexer": "ipython3",
   "version": "3.10.8"
  }
 },
 "nbformat": 4,
 "nbformat_minor": 2
}
