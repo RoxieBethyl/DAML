{
 "cells": [
  {
   "cell_type": "markdown",
   "id": "9d04643d-4607-4463-a842-91be11c11806",
   "metadata": {},
   "source": [
    "# Building an image classifier with a DNN using TensorFlow\n",
    "\n"
   ]
  },
  {
   "cell_type": "markdown",
   "id": "6d6882db",
   "metadata": {},
   "source": [
    "## About This Session\n",
    "\n",
    "This lab is a guided walkthrough to build a _basic_ 'image classification' DNN model and train it on some data.\n",
    "\n",
    "As we build up our model we will build a familiarity with the various components and strategies for building such an ANN system.\n",
    "\n",
    "After we have been able to do this we will then save and load our now-trained model from disk and use it to make a prediction on a new image which isn't present in the original dataset.\n",
    "\n",
    "\n",
    "_Responsible: Robert Currie (<rob.currie@ed.ac.uk>)_\n",
    "\n",
    "### Notes on assessment\n",
    "* Try and calculate the answers to the exercises provided. If you are unable to complete the question, describe which approach you _would_ have taken to solve the problem\n",
    "* Code must be understandable and reproducible. Before grading the notebook kernel **may** be restarted and re-run, so make sure that your code can run from start to finish without any (unintentional) errors\n",
    "* If you are unsure on how to proceed please **ask one of the TAs** during the workshop\n",
    " - Notebooks should be submitted by **10am on Friday 13th October**\n",
    " - This notebook starts with problem 0. This is not assessed, but it is a helpful exercise to show some of the potential pitfalls of 'trusting algorithms' to do the work for us.\n",
    "\n",
    "* There are 10 sections involved in building a DNN using TensorFlow, trainig it on data and then using it to predict based on a new piece of data never seen by the model before.\n",
    "* There are 2 bonus sections covering 'additional training of a model' and 'the impact of training on the distribution of internal weights within a DNN'. These have bonus points if you manage to finish them, but the final mark is capped at 10.\n"
   ]
  },
  {
   "cell_type": "markdown",
   "id": "895060a6",
   "metadata": {},
   "source": [
    "##### Marking\n",
    "\n",
    "Marks for the different parts are shown below.\n",
    "\n",
    "* Questions are marked as starting with '**Q**' and can in principle be attempted at any time.\n",
    "* Problems are intended to be tackled in order, i.e. 1->9\n",
    "* If you jump in at problem 5 for instance you won't yet have a model to train without tackling the steps before.\n",
    "* There are bonus problems at the end to tackle but the maximum mark is 10/10\n",
    "\n",
    "| <p align='left'> Title                         | <p align='left'> Parts | <p align='left'> Number of marks |\n",
    "| ------------------------------------- | ----- | --- |\n",
    "| <p align='left'> 0. Dangers of Fitting                  | <p align='left'>  3  | <p align='left'> 0 |\n",
    "| <p align='left'> 1. Vizualizing the Data                | <p align='left'>  1  | <p align='left'> 1 |\n",
    "| <p align='left'> 2. Formatting Input Data               | <p align='left'>  3  | <p align='left'> 1 |\n",
    "| <p align='left'> 3. Building a DNN model                | <p align='left'>  2  | <p align='left'> 1 |\n",
    "| <p align='left'> 4. Understanding our model             | <p align='left'>  5  | <p align='left'> 2 |\n",
    "| <p align='left'> 5. Training our model                  | <p align='left'>  2  | <p align='left'> 1 |\n",
    "| <p align='left'> 6. Understanding the training history  | <p align='left'>  3  | <p align='left'> 1 |\n",
    "| <p align='left'> 7. Making a Prediction                 | <p align='left'>  2  | <p align='left'> 1 |\n",
    "| <p align='left'> 8. Testing the model                   | <p align='left'>  2  | <p align='left'> 1 |\n",
    "| <p align='left'> 9. Making Predictions with new data    | <p align='left'>  2  | <p align='left'> 1 |\n",
    "| <p align='left'> **Bonus 1:** Analyzing Weights         | <p align='left'>  5  | <p align='left'> 1 |\n",
    "| <p align='left'> **Bonus 2:** Loading a model and optimizing it further | <p align='left'>  7  | <p align='left'> 1 |\n",
    "| <p align='left'> **Total** | | <p align='left'> max **10** |\n"
   ]
  },
  {
   "cell_type": "code",
   "execution_count": 1,
   "id": "f685af8c",
   "metadata": {},
   "outputs": [],
   "source": [
    "# let's keep our keras backend tensorflow quiet\n",
    "import os\n",
    "os.environ['TF_CPP_MIN_LOG_LEVEL']='2'\n",
    "# if you need to force tensorflow to use your CPU\n",
    "#os.environ['CUDA_VISIBLE_DEVICES'] = ''\n",
    "\n",
    "# imports for array-handling and plotting\n",
    "import numpy as np\n",
    "from numpy import argmax\n",
    "import matplotlib\n",
    "import matplotlib.pyplot as plt\n",
    "import matplotlib.image as mpimg\n",
    "import matplotlib.ticker as mtick\n",
    "\n",
    "# Importing tensorflow so we can access anything later\n",
    "import tensorflow as tf\n",
    "\n",
    "# keras imports for importing our dataset\n",
    "from tensorflow.keras.datasets import mnist\n",
    "# keras imports for building our neural network\n",
    "from tensorflow.keras.models import Sequential\n",
    "from tensorflow.keras.initializers import RandomUniform\n",
    "from tensorflow.keras.layers import Dense, Activation\n",
    "# keras import for manipulating some of our data\n",
    "from tensorflow.keras.utils import to_categorical\n",
    "\n",
    "# keras tools for loading an image from disk\n",
    "from tensorflow.keras.preprocessing.image import load_img\n",
    "from tensorflow.keras.preprocessing.image import img_to_array\n",
    "\n",
    "# keras tools for loading an ANN model from disk\n",
    "from tensorflow.keras.models import load_model"
   ]
  },
  {
   "cell_type": "markdown",
   "id": "aec01e96",
   "metadata": {},
   "source": [
    "\n",
    "# Problem 0: Understanding Fitting\n",
    "\n",
    "### Problems when fitting (an interlude)\n",
    "\n",
    "When fitting to a dataset we trust that the algorithm that we're using will find the correct minima and that the fit hasn't become pronned to some problem such as vanishing gradients.\n",
    "\n",
    "Here we're going to demonstrate a quick example of problems that you can hit with a fit failing to converge.\n",
    "\n",
    "There are many tools/checks in place in most modern libraries to help fix common problems, but we will explicitly use the `SLSQP` method here which allows us to look at narrow ranges of a full function.\n",
    "\n",
    "`result = minimize(objective, pt, method='SLSQP', jac=derivative, bounds=[(...),])`\n",
    "\n",
    "The objective function of this fit has been provided it is the equation of the form `y=x^4-5x^2+0.1x` .\n",
    "\n",
    "This function has 3 points where the gradient is zero and has 2 minima, a global minima and a local minima.\n",
    "\n",
    "## 0.1 Provide the derivative function for this 1D method (this is the Jacobian)\n",
    "\n",
    "This is just a case of returning the correct value from the derivative method."
   ]
  },
  {
   "cell_type": "code",
   "execution_count": 2,
   "id": "631f8cdb",
   "metadata": {},
   "outputs": [],
   "source": [
    "from scipy.optimize import minimize\n",
    "\n",
    "def objective(x):\n",
    "  return x[0]**4 - 5*x[0]**2 + 0.1*x[0]\n",
    "\n",
    "# Part 1 complete the derivative function\n",
    "def derivative(x):\n",
    "  return 4*x[0]**3 - 10*x[0] + 0.1"
   ]
  },
  {
   "cell_type": "markdown",
   "id": "f7e42b37",
   "metadata": {},
   "source": [
    "## 0.2 Run the minimize method over given ranges and identify the 3 'stable' points of the function\n",
    "\n",
    "Run the minimize method over these 3 ranges:\n",
    "\n",
    "| <p align='left'> Ranges |\n",
    "| :--- |\n",
    "| ` (0.1, 5.0)` |\n",
    "| ` (0.0, 5.0)`  |\n",
    "| `(-5.0, 5.0)` |\n"
   ]
  },
  {
   "cell_type": "code",
   "execution_count": 3,
   "id": "ccf94f72",
   "metadata": {},
   "outputs": [],
   "source": [
    "pt = (5.,)\n",
    "ranges = [(0.1, 5.0),  (0.0, 5.0),  (-5.0, 5.0)]\n",
    "\n",
    "# Part 2 perform 3 minimizations\n",
    "result_1 = minimize(objective, pt, method='SLSQP', jac=derivative, bounds=[ranges[0]])\n",
    "result_2 = minimize(objective, pt, method='SLSQP', jac=derivative, bounds=[ranges[1]])\n",
    "result_3 = minimize(objective, pt, method='SLSQP', jac=derivative, bounds=[ranges[2]])"
   ]
  },
  {
   "cell_type": "markdown",
   "id": "0dd34b65",
   "metadata": {},
   "source": [
    "## 0.3 Identify the true minima of the function\n",
    "\n",
    "##### Hint:\n",
    "    \n",
    "Running `scipy.minimize` returns an object containing the fit result and a bunch of extra output.\n",
    "The value of `x` from a 'minimize' after it has finished running can be accessed via `result['x']` and the function value can be accessed via `result['fun']`."
   ]
  },
  {
   "cell_type": "code",
   "execution_count": 4,
   "id": "f302c108",
   "metadata": {},
   "outputs": [
    {
     "name": "stdout",
     "output_type": "stream",
     "text": [
      "Minimum 1: [1.57609448]\n",
      "Minimum 2: [0.]\n",
      "Minimum 3: [-1.5861131]\n",
      "Result 1: -6.092136908469087\n",
      "Result 2: 0.0\n",
      "Result 3: -6.4083630973486665\n",
      "Best Result is: Result 2 = -6.4083630973486665\n"
     ]
    }
   ],
   "source": [
    "print('Minimum 1: {}'.format(result_1['x']))\n",
    "print('Minimum 2: {}'.format(result_2['x']))\n",
    "print('Minimum 3: {}'.format(result_3['x']))\n",
    "\n",
    "print('Result 1: {}'.format(result_1['fun']))\n",
    "print('Result 2: {}'.format(result_2['fun']))\n",
    "print('Result 3: {}'.format(result_3['fun']))\n",
    "\n",
    "allRes = (result_1['fun'], result_2['fun'], result_3['fun'])\n",
    "# Part 3 identify the true minima\n",
    "print('Best Result is: Result {1} = {0}'.format(np.min(allRes), np.argmin(allRes)) ) "
   ]
  },
  {
   "cell_type": "markdown",
   "id": "fe5e051f",
   "metadata": {},
   "source": [
    "# Load & Visualize the dataset\n",
    "\n",
    "#### Loading the data\n",
    "\n",
    "The data we're using comes from the well use mnist dataset which has been around since the 80s and is something people new to AI/ML often try their hand at building models for.\n",
    "\n",
    "###### About the data\n",
    "https://www.tensorflow.org/api_docs/python/tf/keras/datasets/mnist/load_data\n",
    "\n",
    "This dataset consists of many pixelated digitized images of hand-written numbers.\n",
    "These images contain data in a single channel i.e. black and white images. White images on a Black background.\n",
    "\n",
    "\n",
    "We've loaded the mnist class and we just need to call `load_data` to get the dataset in order for us to use this data.\n",
    "\n",
    "This method returns 2 tuples. The training data and labels as well as the test data and labels."
   ]
  },
  {
   "cell_type": "code",
   "execution_count": 5,
   "id": "12460d14",
   "metadata": {},
   "outputs": [],
   "source": [
    "# Load the Training and Test data\n",
    "(X_train, Y_train), (X_test, Y_test) =  mnist.load_data(path='mnist.npz')"
   ]
  },
  {
   "cell_type": "markdown",
   "id": "f0718970",
   "metadata": {},
   "source": [
    "# Visualize the dataset\n",
    "\n",
    "It's important to understand the data that you're trying to train on. In most cases preparing the data in some way that it's suitable for training is the most time consuming part of building and training a model to be useful.\n",
    "\n",
    "# Problem 1: Understanding the input data\n",
    "\n",
    "Now that we've loaded the data we need to make sure that it's in a format that we can use.\n",
    "\n",
    "## 1.1 First, What is the shape of an individual image?\n",
    "Firstly, what is the shape of the each input image?, and what range of values do the individual pixels within the image take?"
   ]
  },
  {
   "cell_type": "code",
   "execution_count": 6,
   "id": "dc8b30c0",
   "metadata": {},
   "outputs": [
    {
     "name": "stdout",
     "output_type": "stream",
     "text": [
      "The shape of each image is (28, 28)\n"
     ]
    }
   ],
   "source": [
    "X_train = img_to_array(X_train)\n",
    "print('The shape of each image is {}'.format(np.shape(X_train[0])))"
   ]
  },
  {
   "cell_type": "code",
   "execution_count": 7,
   "id": "bd0e3f84",
   "metadata": {},
   "outputs": [
    {
     "name": "stdout",
     "output_type": "stream",
     "text": [
      "The image takes in values between 0.0 to 255.0 which is RGB colouring.\n"
     ]
    }
   ],
   "source": [
    "print('The image takes in values between {1} to {0} which is RGB colouring.'.format(np.max(X_train), np.min(X_train)))"
   ]
  },
  {
   "cell_type": "markdown",
   "id": "20b222e4",
   "metadata": {},
   "source": [
    "## 1.2 Plotting some of the input data\n",
    "\n",
    "Secondly, we should attempt to plot some of the input data to our fit to understand what the data looks like.\n",
    "It is possible to use the pyplot method to plot the images which we have just loaded into tensors.\n",
    "\n",
    "##### Hint:\n",
    "The options of `cmap='gray', interpolation='none'` with `pyplot.imshow` show the images as we would expect to see them.\n",
    "\n",
    "https://matplotlib.org/stable/api/_as_gen/matplotlib.pyplot.imshow.html\n",
    "\n",
    "\n",
    "#### Plot the Data\n",
    "\n",
    "###### Plot the first 2 values from the training portion of the dataset using the values to the first 2 training labels as labels."
   ]
  },
  {
   "cell_type": "code",
   "execution_count": 8,
   "id": "477f41df",
   "metadata": {},
   "outputs": [
    {
     "data": {
      "image/png": "[encoded data removed]",
      "text/plain": [
       "<Figure size 640x480 with 1 Axes>"
      ]
     },
     "metadata": {},
     "output_type": "display_data"
    }
   ],
   "source": [
    "plt.imshow(X_train[0], cmap='gray', interpolation=None)\n",
    "plt.title(Y_train[0])\n",
    "plt.show()"
   ]
  },
  {
   "cell_type": "code",
   "execution_count": 9,
   "id": "ee675029",
   "metadata": {},
   "outputs": [
    {
     "data": {
      "image/png": "[encoded data removed]",
      "text/plain": [
       "<Figure size 640x480 with 1 Axes>"
      ]
     },
     "metadata": {},
     "output_type": "display_data"
    }
   ],
   "source": [
    "plt.imshow(X_train[1], cmap='gray', interpolation=None)\n",
    "plt.title(Y_train[1])\n",
    "plt.show()"
   ]
  },
  {
   "cell_type": "markdown",
   "id": "8dcb09b4",
   "metadata": {},
   "source": [
    "# Normalizing and Formatting the dataset\n",
    "\n",
    "Before we begin fitting the dataset it is useful to make sure that the data is in a format that we can use for fitting.\n",
    "\n",
    "\n",
    "\n",
    "## Problem 2: Formatting Input Data\n",
    "\n",
    "\n",
    "### 2.1 Normalize and reformat our Input Data.\n",
    "\n",
    "For our model we're going to use a flat array of 768 pixel values as our input and we want to make sure that our data has been correctly normalized so that the values are all in the unitary range [0,1].\n",
    "\n",
    "The data should be converted to the `'float32'` using the `astype` method and then normalized to have values between 0 and 1."
   ]
  },
  {
   "cell_type": "code",
   "execution_count": 10,
   "id": "7b5c39a5",
   "metadata": {},
   "outputs": [],
   "source": [
    "# convert data into a float from an integer array\n",
    "X_train = X_train.astype(np.float32)\n",
    "X_test = X_test.astype(np.float32)\n",
    "\n",
    "# normalizing the data to help with the training\n",
    "X_train /= np.max(X_train)\n",
    "X_test /= np.max(X_test)"
   ]
  },
  {
   "cell_type": "markdown",
   "id": "3d5dbcae",
   "metadata": {},
   "source": [
    "## 2.2 Resize the input data\n",
    "The input data should be re-formatted such that we have 1 flat array of inputs for each image.\n",
    "\n",
    "i.e. we have 60,000 images for training, we want each of these images to contain data in a flat array which means we are going from a 3D tensor to a 2D tensor. e.g. `(60000, 10, 10) ==> (60000, 100)` \n",
    "\n",
    "##### Hint: Tensor.Reshape can be used to simplify the re-shaping/re-sizing of the input data"
   ]
  },
  {
   "cell_type": "code",
   "execution_count": 11,
   "id": "fd448672",
   "metadata": {},
   "outputs": [
    {
     "name": "stdout",
     "output_type": "stream",
     "text": [
      "(60000, 784)\n",
      "(10000, 784)\n"
     ]
    }
   ],
   "source": [
    "## building the input 1D vector from the 28x28 pixels\n",
    "shape = np.shape(X_train)\n",
    "X_train = tf.reshape(X_train, [shape[0], (shape[1]*shape[2])])\n",
    "print(np.shape(X_train))\n",
    "\n",
    "shape = np.shape(X_test)\n",
    "X_test = tf.reshape(X_test, [shape[0], (shape[1]*shape[2])])\n",
    "print(np.shape(X_test))"
   ]
  },
  {
   "cell_type": "markdown",
   "id": "69060a15",
   "metadata": {},
   "source": [
    "## 2.3 Change our input labels for fitting\n",
    "\n",
    "Now we need to make sure that the dataset labels are in a format which we can use alongside the training and testing dataset.\n",
    "\n",
    "Typically DNN expect category labels to be in a one-hot encoding. This means that labels are vectors with a single entry of 1 and all other entries being 0. \n",
    "\n",
    "##### Hint: This can be achieved using the `to_categorical` utility function in Keras.\n",
    "\n",
    "Using this change the Y_test and Y_train labels to be cateory labels.\n",
    "\n",
    "If you want to be explicit we know we're working with `n_classes = 10` due to looking at the numerical characters `0...9`."
   ]
  },
  {
   "cell_type": "code",
   "execution_count": 12,
   "id": "7c5854c5",
   "metadata": {},
   "outputs": [
    {
     "name": "stdout",
     "output_type": "stream",
     "text": [
      "Shape before one-hot encoding:  (60000,)\n"
     ]
    }
   ],
   "source": [
    "n_classes = 10\n",
    "print(\"Shape before one-hot encoding: \", Y_train.shape)\n",
    "\n",
    "Y_train = to_categorical(Y_train, num_classes=n_classes)\n",
    "Y_test = to_categorical(Y_test, num_classes=n_classes)"
   ]
  },
  {
   "cell_type": "code",
   "execution_count": 13,
   "id": "9d6c32d5",
   "metadata": {},
   "outputs": [
    {
     "name": "stdout",
     "output_type": "stream",
     "text": [
      "(60000, 10)\n",
      "(10000, 10)\n"
     ]
    }
   ],
   "source": [
    "print(Y_train.shape)\n",
    "print(Y_test.shape)"
   ]
  },
  {
   "cell_type": "markdown",
   "id": "ae28bb7a",
   "metadata": {},
   "source": [
    "# Problem 3: Building the DNN\n",
    "\n",
    "\n",
    "In Tensorflow a 'standard' DNN model is defined using the Sequential model.\n",
    "https://www.tensorflow.org/api_docs/python/tf/keras/Sequential\n",
    "\n",
    "Then additional layers are added to the model one at a time until the model is complete using `model.add`.\n",
    "\n",
    "\n",
    "## Build a DNN with 2 \"hidden layers\"\n",
    "\n",
    "You should build a DNN such that it has 2 hidden and 1 output layer. When building a model we have neurons and activation functions. These are 'layers' in TensorFlow but we want 3 layers with neurons and activators such as: \n",
    "\n",
    "| <p align='left'> Layer |\n",
    "| :--- |\n",
    "| Dense |\n",
    "| Activation |\n",
    "| Dense |\n",
    "| Activation |\n",
    "| Dense |\n",
    "| Activation |\n",
    "\n",
    "A flat layer of neurons is defined using the `Dense` layer in Tensorflow.\n",
    "For our example we want to keep our Activators and our layers of neurons separate.\n",
    "    \n",
    "We want to use a random flat distribution of weights when initializing the parameters in this fit,\n",
    "    \n",
    "### !!Use the parameters `use_bias=True, kernel_initializer='RandomUniform'` when constructing a layer of neurons!!\n",
    "\n",
    "###### NB: By default each Dense layer also applies a bias to each node to improve the fit performance.\n",
    "    \n",
    "For our hidden nodes we want to use the `'GELU'` Activator for this example and `'softmax'` to build our a numerical classifier."
   ]
  },
  {
   "cell_type": "code",
   "execution_count": 14,
   "id": "ba268e86",
   "metadata": {},
   "outputs": [],
   "source": [
    "n_categories = 10\n",
    "n_nodes = 256\n",
    "activation_type = 'gelu'\n",
    "weight_start_values = 'RandomUniform'\n",
    "\n",
    "# building a linear stack of layers with the sequential model\n",
    "model = Sequential()\n",
    "\n",
    "model.add(Dense(n_nodes, use_bias=True, kernel_initializer='RandomUniform'))\n",
    "model.add(Activation(activation_type))\n",
    "model.add(Dense(n_nodes, use_bias=True, kernel_initializer='RandomUniform'))\n",
    "model.add(Activation(activation_type))\n",
    "model.add(Dense(n_categories, use_bias=True, kernel_initializer='RandomUniform'))\n",
    "model.add(Activation('softmax'))"
   ]
  },
  {
   "cell_type": "markdown",
   "id": "8e825c92",
   "metadata": {},
   "source": [
    "## Compiling our model\n",
    "\n",
    "At this point we have a description of our model. Now we want to compile it.\n",
    "\n",
    "Strictly speaking some of the steps here are optional, but we want to be explicit with how we're building our model to be sure that we've understood everything that is going on.\n",
    "\n",
    "We will be using `categorical_crossentropy` as discussed in our lecture as our loss model.\n",
    "\n",
    "We will also be using the `Stochastic Gradient Descent` or `SGD` optimizer for our training. This is different to the default.\n",
    "\n",
    "`metrics=['accuracy']` is also passed to our model to ensure that it collects training data that we're interested in later on.\n",
    "\n",
    "\n",
    "## Now compile and build the model"
   ]
  },
  {
   "cell_type": "code",
   "execution_count": 15,
   "id": "3c3deac8-536b-4262-93a6-0479dc1bb53e",
   "metadata": {
    "scrolled": true
   },
   "outputs": [
    {
     "name": "stdout",
     "output_type": "stream",
     "text": [
      "Model: \"sequential\"\n",
      "_________________________________________________________________\n",
      " Layer (type)                Output Shape              Param #   \n",
      "=================================================================\n",
      " dense (Dense)               (1, 256)                  200960    \n",
      "                                                                 \n",
      " activation (Activation)     (1, 256)                  0         \n",
      "                                                                 \n",
      " dense_1 (Dense)             (1, 256)                  65792     \n",
      "                                                                 \n",
      " activation_1 (Activation)   (1, 256)                  0         \n",
      "                                                                 \n",
      " dense_2 (Dense)             (1, 10)                   2570      \n",
      "                                                                 \n",
      " activation_2 (Activation)   (1, 10)                   0         \n",
      "                                                                 \n",
      "=================================================================\n",
      "Total params: 269,322\n",
      "Trainable params: 269,322\n",
      "Non-trainable params: 0\n",
      "_________________________________________________________________\n"
     ]
    }
   ],
   "source": [
    "# compiling the sequential model\n",
    "model.compile(loss='categorical_crossentropy', metrics=['accuracy'], optimizer='SGD')\n",
    "# Now we want to 'build' the model, so tell it about our input data format\n",
    "model.build(input_shape=(1,784))\n",
    "\n",
    "# Print a helpful summary of our model\n",
    "model.summary()\n",
    "\n",
    "# Now we're going to take a copy of the weights in our first hidden layer of the fit\n",
    "weights_before_training = model.layers[0].get_weights()[0].copy()\n",
    "weights_before_training.resize(200704)"
   ]
  },
  {
   "cell_type": "markdown",
   "id": "29f3ef3d",
   "metadata": {},
   "source": [
    "# Problem 4: Understanding our model\n",
    "\n",
    "## Q: 4.1\n",
    "\n",
    "##### Using an Input Shape of `784` and a hidden layer of `256` nodes you should see `200960` free parameters in the first layer of your model.\n",
    "\n",
    "##### Explain where this number of free parameters comes from.\n",
    "\n"
   ]
  },
  {
   "cell_type": "markdown",
   "id": "f5ee2c65",
   "metadata": {},
   "source": [
    "### Answer: This is the number of input parameters times the number of nodes. There is also the count of the free parameters that comes from the bias which the function has recognised and this addtional value is added to the total parameters.\n",
    "### (789 x 256) + 256 = 200960"
   ]
  },
  {
   "cell_type": "markdown",
   "id": "aad93994",
   "metadata": {},
   "source": [
    "## Q: 4.2\n",
    "\n",
    "##### Using `256` nodes per hidden layer there will also be `65792` weights between the 2 hidden layers in the model.\n",
    "\n",
    "##### Explain where these weights come from."
   ]
  },
  {
   "cell_type": "markdown",
   "id": "01cd4150",
   "metadata": {},
   "source": [
    "### Answer: This is the total number of free parameters plus the bias between the hidden layes that have 256 nodes each. Therefore,\n",
    "### (256 x 256) + 256 = 65792"
   ]
  },
  {
   "cell_type": "markdown",
   "id": "4e47c4f2",
   "metadata": {},
   "source": [
    "## Q: 4.3\n",
    "\n",
    "##### Explain why a `'softmax'` activation function is used at the end of our classification model."
   ]
  },
  {
   "cell_type": "markdown",
   "id": "735055f0",
   "metadata": {},
   "source": [
    "### Answer: In the final activation of the model, 'softmax' is used to calculate the probability at each of the the nodes in the final dense layer."
   ]
  },
  {
   "cell_type": "markdown",
   "id": "47a3c156",
   "metadata": {},
   "source": [
    "## Q: 4.4\n",
    "\n",
    "##### How many weights would we expect in the whole model when using 128 neurons per hidden layer?"
   ]
  },
  {
   "cell_type": "markdown",
   "id": "8486e255",
   "metadata": {},
   "source": [
    "### Answer: The hidden layers will have the total number of free parameter between all the nodes including the bias.\n",
    "### (128 x 128) + 128 = 16512\n",
    "### There will be 16,512 weights between the hidden layers."
   ]
  },
  {
   "cell_type": "markdown",
   "id": "6d623e92",
   "metadata": {},
   "source": [
    "## Q: 4.5\n",
    "\n",
    "##### Why are activation functions needed in a DNN which is trained on data?"
   ]
  },
  {
   "cell_type": "markdown",
   "id": "846da7a7",
   "metadata": {},
   "source": [
    "### Answer: Activator functions are used to allow the neural networks to learn complex patterns of data and to help guide the neural network in deciding what should be transmitted in the next neuron. It also helps the neural network understand non-linear relationships."
   ]
  },
  {
   "cell_type": "markdown",
   "id": "063d1791",
   "metadata": {},
   "source": [
    "\n",
    "# Problem 5: Train the model\n",
    "\n",
    "### Model Training\n",
    "\n",
    "Now that we have a model we want to fit we now want to train it on our training dataset making sure to use our validation data to check on our training.\n",
    "\n",
    "The result of this training will be stored in our history and will allow us to go back and asses how well our training worked.\n",
    "\n",
    "\n",
    "## 5.1 Perform the training\n",
    "Complete and run the command below to train the model on data using a `batch_size` of 600 for 100 `epochs`.\n"
   ]
  },
  {
   "cell_type": "code",
   "execution_count": 16,
   "id": "b02c7124",
   "metadata": {
    "scrolled": true
   },
   "outputs": [
    {
     "name": "stdout",
     "output_type": "stream",
     "text": [
      "Epoch 1/100\n"
     ]
    },
    {
     "name": "stdout",
     "output_type": "stream",
     "text": [
      "100/100 - 2s - loss: 2.2982 - accuracy: 0.1392 - val_loss: 2.2923 - val_accuracy: 0.2845 - 2s/epoch - 17ms/step\n",
      "Epoch 2/100\n",
      "100/100 - 1s - loss: 2.2873 - accuracy: 0.3810 - val_loss: 2.2807 - val_accuracy: 0.4577 - 653ms/epoch - 7ms/step\n",
      "Epoch 3/100\n",
      "100/100 - 1s - loss: 2.2752 - accuracy: 0.4756 - val_loss: 2.2673 - val_accuracy: 0.5139 - 628ms/epoch - 6ms/step\n",
      "Epoch 4/100\n",
      "100/100 - 1s - loss: 2.2606 - accuracy: 0.5221 - val_loss: 2.2505 - val_accuracy: 0.5299 - 624ms/epoch - 6ms/step\n",
      "Epoch 5/100\n",
      "100/100 - 1s - loss: 2.2414 - accuracy: 0.5248 - val_loss: 2.2275 - val_accuracy: 0.5233 - 605ms/epoch - 6ms/step\n",
      "Epoch 6/100\n",
      "100/100 - 1s - loss: 2.2140 - accuracy: 0.5024 - val_loss: 2.1933 - val_accuracy: 0.4877 - 627ms/epoch - 6ms/step\n",
      "Epoch 7/100\n",
      "100/100 - 1s - loss: 2.1718 - accuracy: 0.4608 - val_loss: 2.1393 - val_accuracy: 0.4526 - 589ms/epoch - 6ms/step\n",
      "Epoch 8/100\n",
      "100/100 - 1s - loss: 2.1049 - accuracy: 0.4448 - val_loss: 2.0560 - val_accuracy: 0.4607 - 580ms/epoch - 6ms/step\n",
      "Epoch 9/100\n",
      "100/100 - 1s - loss: 2.0058 - accuracy: 0.4954 - val_loss: 1.9347 - val_accuracy: 0.5505 - 581ms/epoch - 6ms/step\n",
      "Epoch 10/100\n",
      "100/100 - 1s - loss: 1.8586 - accuracy: 0.5913 - val_loss: 1.7475 - val_accuracy: 0.6284 - 577ms/epoch - 6ms/step\n",
      "Epoch 11/100\n",
      "100/100 - 1s - loss: 1.6327 - accuracy: 0.6486 - val_loss: 1.4705 - val_accuracy: 0.6792 - 587ms/epoch - 6ms/step\n",
      "Epoch 12/100\n",
      "100/100 - 1s - loss: 1.3371 - accuracy: 0.6971 - val_loss: 1.1656 - val_accuracy: 0.7234 - 623ms/epoch - 6ms/step\n",
      "Epoch 13/100\n",
      "100/100 - 1s - loss: 1.0694 - accuracy: 0.7370 - val_loss: 0.9426 - val_accuracy: 0.7571 - 673ms/epoch - 7ms/step\n",
      "Epoch 14/100\n",
      "100/100 - 1s - loss: 0.8906 - accuracy: 0.7667 - val_loss: 0.8039 - val_accuracy: 0.7858 - 631ms/epoch - 6ms/step\n",
      "Epoch 15/100\n",
      "100/100 - 1s - loss: 0.7758 - accuracy: 0.7896 - val_loss: 0.7116 - val_accuracy: 0.8068 - 620ms/epoch - 6ms/step\n",
      "Epoch 16/100\n",
      "100/100 - 1s - loss: 0.6960 - accuracy: 0.8094 - val_loss: 0.6448 - val_accuracy: 0.8225 - 635ms/epoch - 6ms/step\n",
      "Epoch 17/100\n",
      "100/100 - 1s - loss: 0.6372 - accuracy: 0.8245 - val_loss: 0.5942 - val_accuracy: 0.8374 - 599ms/epoch - 6ms/step\n",
      "Epoch 18/100\n",
      "100/100 - 1s - loss: 0.5916 - accuracy: 0.8362 - val_loss: 0.5541 - val_accuracy: 0.8489 - 611ms/epoch - 6ms/step\n",
      "Epoch 19/100\n",
      "100/100 - 1s - loss: 0.5552 - accuracy: 0.8460 - val_loss: 0.5230 - val_accuracy: 0.8572 - 608ms/epoch - 6ms/step\n",
      "Epoch 20/100\n",
      "100/100 - 1s - loss: 0.5259 - accuracy: 0.8538 - val_loss: 0.4953 - val_accuracy: 0.8628 - 609ms/epoch - 6ms/step\n",
      "Epoch 21/100\n",
      "100/100 - 1s - loss: 0.5016 - accuracy: 0.8616 - val_loss: 0.4736 - val_accuracy: 0.8675 - 594ms/epoch - 6ms/step\n",
      "Epoch 22/100\n",
      "100/100 - 1s - loss: 0.4812 - accuracy: 0.8669 - val_loss: 0.4556 - val_accuracy: 0.8722 - 595ms/epoch - 6ms/step\n",
      "Epoch 23/100\n",
      "100/100 - 1s - loss: 0.4638 - accuracy: 0.8711 - val_loss: 0.4397 - val_accuracy: 0.8771 - 599ms/epoch - 6ms/step\n",
      "Epoch 24/100\n",
      "100/100 - 1s - loss: 0.4490 - accuracy: 0.8753 - val_loss: 0.4263 - val_accuracy: 0.8807 - 644ms/epoch - 6ms/step\n",
      "Epoch 25/100\n",
      "100/100 - 1s - loss: 0.4361 - accuracy: 0.8785 - val_loss: 0.4142 - val_accuracy: 0.8830 - 611ms/epoch - 6ms/step\n",
      "Epoch 26/100\n",
      "100/100 - 1s - loss: 0.4249 - accuracy: 0.8819 - val_loss: 0.4046 - val_accuracy: 0.8848 - 618ms/epoch - 6ms/step\n",
      "Epoch 27/100\n",
      "100/100 - 1s - loss: 0.4151 - accuracy: 0.8843 - val_loss: 0.3952 - val_accuracy: 0.8874 - 592ms/epoch - 6ms/step\n",
      "Epoch 28/100\n",
      "100/100 - 1s - loss: 0.4063 - accuracy: 0.8863 - val_loss: 0.3871 - val_accuracy: 0.8896 - 583ms/epoch - 6ms/step\n",
      "Epoch 29/100\n",
      "100/100 - 1s - loss: 0.3984 - accuracy: 0.8884 - val_loss: 0.3805 - val_accuracy: 0.8917 - 585ms/epoch - 6ms/step\n",
      "Epoch 30/100\n",
      "100/100 - 1s - loss: 0.3915 - accuracy: 0.8899 - val_loss: 0.3735 - val_accuracy: 0.8934 - 575ms/epoch - 6ms/step\n",
      "Epoch 31/100\n",
      "100/100 - 1s - loss: 0.3852 - accuracy: 0.8916 - val_loss: 0.3671 - val_accuracy: 0.8951 - 578ms/epoch - 6ms/step\n",
      "Epoch 32/100\n",
      "100/100 - 1s - loss: 0.3792 - accuracy: 0.8931 - val_loss: 0.3624 - val_accuracy: 0.8957 - 572ms/epoch - 6ms/step\n",
      "Epoch 33/100\n",
      "100/100 - 1s - loss: 0.3739 - accuracy: 0.8946 - val_loss: 0.3576 - val_accuracy: 0.8973 - 582ms/epoch - 6ms/step\n",
      "Epoch 34/100\n",
      "100/100 - 1s - loss: 0.3689 - accuracy: 0.8956 - val_loss: 0.3530 - val_accuracy: 0.8983 - 578ms/epoch - 6ms/step\n",
      "Epoch 35/100\n",
      "100/100 - 1s - loss: 0.3644 - accuracy: 0.8969 - val_loss: 0.3488 - val_accuracy: 0.8997 - 567ms/epoch - 6ms/step\n",
      "Epoch 36/100\n",
      "100/100 - 1s - loss: 0.3602 - accuracy: 0.8976 - val_loss: 0.3452 - val_accuracy: 0.9015 - 578ms/epoch - 6ms/step\n",
      "Epoch 37/100\n",
      "100/100 - 1s - loss: 0.3561 - accuracy: 0.8990 - val_loss: 0.3413 - val_accuracy: 0.9017 - 575ms/epoch - 6ms/step\n",
      "Epoch 38/100\n",
      "100/100 - 1s - loss: 0.3522 - accuracy: 0.8999 - val_loss: 0.3387 - val_accuracy: 0.9020 - 575ms/epoch - 6ms/step\n",
      "Epoch 39/100\n",
      "100/100 - 1s - loss: 0.3489 - accuracy: 0.9005 - val_loss: 0.3341 - val_accuracy: 0.9045 - 571ms/epoch - 6ms/step\n",
      "Epoch 40/100\n",
      "100/100 - 1s - loss: 0.3455 - accuracy: 0.9016 - val_loss: 0.3309 - val_accuracy: 0.9051 - 593ms/epoch - 6ms/step\n",
      "Epoch 41/100\n",
      "100/100 - 1s - loss: 0.3424 - accuracy: 0.9022 - val_loss: 0.3287 - val_accuracy: 0.9050 - 649ms/epoch - 6ms/step\n",
      "Epoch 42/100\n",
      "100/100 - 1s - loss: 0.3393 - accuracy: 0.9032 - val_loss: 0.3253 - val_accuracy: 0.9068 - 621ms/epoch - 6ms/step\n",
      "Epoch 43/100\n",
      "100/100 - 1s - loss: 0.3364 - accuracy: 0.9038 - val_loss: 0.3229 - val_accuracy: 0.9074 - 637ms/epoch - 6ms/step\n",
      "Epoch 44/100\n",
      "100/100 - 1s - loss: 0.3336 - accuracy: 0.9047 - val_loss: 0.3209 - val_accuracy: 0.9075 - 569ms/epoch - 6ms/step\n",
      "Epoch 45/100\n",
      "100/100 - 1s - loss: 0.3310 - accuracy: 0.9052 - val_loss: 0.3187 - val_accuracy: 0.9090 - 575ms/epoch - 6ms/step\n",
      "Epoch 46/100\n",
      "100/100 - 1s - loss: 0.3286 - accuracy: 0.9060 - val_loss: 0.3153 - val_accuracy: 0.9102 - 566ms/epoch - 6ms/step\n",
      "Epoch 47/100\n",
      "100/100 - 1s - loss: 0.3261 - accuracy: 0.9066 - val_loss: 0.3142 - val_accuracy: 0.9104 - 592ms/epoch - 6ms/step\n",
      "Epoch 48/100\n",
      "100/100 - 1s - loss: 0.3237 - accuracy: 0.9076 - val_loss: 0.3115 - val_accuracy: 0.9106 - 594ms/epoch - 6ms/step\n",
      "Epoch 49/100\n",
      "100/100 - 1s - loss: 0.3216 - accuracy: 0.9081 - val_loss: 0.3103 - val_accuracy: 0.9107 - 574ms/epoch - 6ms/step\n",
      "Epoch 50/100\n",
      "100/100 - 1s - loss: 0.3194 - accuracy: 0.9083 - val_loss: 0.3075 - val_accuracy: 0.9108 - 572ms/epoch - 6ms/step\n",
      "Epoch 51/100\n",
      "100/100 - 1s - loss: 0.3175 - accuracy: 0.9093 - val_loss: 0.3060 - val_accuracy: 0.9114 - 571ms/epoch - 6ms/step\n",
      "Epoch 52/100\n",
      "100/100 - 1s - loss: 0.3155 - accuracy: 0.9104 - val_loss: 0.3051 - val_accuracy: 0.9118 - 609ms/epoch - 6ms/step\n",
      "Epoch 53/100\n",
      "100/100 - 1s - loss: 0.3136 - accuracy: 0.9103 - val_loss: 0.3021 - val_accuracy: 0.9133 - 599ms/epoch - 6ms/step\n",
      "Epoch 54/100\n",
      "100/100 - 1s - loss: 0.3117 - accuracy: 0.9110 - val_loss: 0.3012 - val_accuracy: 0.9125 - 574ms/epoch - 6ms/step\n",
      "Epoch 55/100\n",
      "100/100 - 1s - loss: 0.3101 - accuracy: 0.9115 - val_loss: 0.2991 - val_accuracy: 0.9146 - 598ms/epoch - 6ms/step\n",
      "Epoch 56/100\n",
      "100/100 - 1s - loss: 0.3082 - accuracy: 0.9118 - val_loss: 0.2977 - val_accuracy: 0.9149 - 567ms/epoch - 6ms/step\n",
      "Epoch 57/100\n",
      "100/100 - 1s - loss: 0.3064 - accuracy: 0.9127 - val_loss: 0.2979 - val_accuracy: 0.9141 - 568ms/epoch - 6ms/step\n",
      "Epoch 58/100\n",
      "100/100 - 1s - loss: 0.3050 - accuracy: 0.9130 - val_loss: 0.2952 - val_accuracy: 0.9138 - 597ms/epoch - 6ms/step\n",
      "Epoch 59/100\n",
      "100/100 - 1s - loss: 0.3035 - accuracy: 0.9130 - val_loss: 0.2936 - val_accuracy: 0.9152 - 583ms/epoch - 6ms/step\n",
      "Epoch 60/100\n",
      "100/100 - 1s - loss: 0.3019 - accuracy: 0.9137 - val_loss: 0.2925 - val_accuracy: 0.9166 - 618ms/epoch - 6ms/step\n",
      "Epoch 61/100\n",
      "100/100 - 1s - loss: 0.3006 - accuracy: 0.9140 - val_loss: 0.2922 - val_accuracy: 0.9155 - 590ms/epoch - 6ms/step\n",
      "Epoch 62/100\n",
      "100/100 - 1s - loss: 0.2992 - accuracy: 0.9145 - val_loss: 0.2897 - val_accuracy: 0.9177 - 585ms/epoch - 6ms/step\n",
      "Epoch 63/100\n",
      "100/100 - 1s - loss: 0.2979 - accuracy: 0.9152 - val_loss: 0.2883 - val_accuracy: 0.9175 - 576ms/epoch - 6ms/step\n",
      "Epoch 64/100\n",
      "100/100 - 1s - loss: 0.2964 - accuracy: 0.9153 - val_loss: 0.2881 - val_accuracy: 0.9167 - 572ms/epoch - 6ms/step\n",
      "Epoch 65/100\n",
      "100/100 - 1s - loss: 0.2951 - accuracy: 0.9157 - val_loss: 0.2864 - val_accuracy: 0.9190 - 576ms/epoch - 6ms/step\n",
      "Epoch 66/100\n",
      "100/100 - 1s - loss: 0.2937 - accuracy: 0.9163 - val_loss: 0.2853 - val_accuracy: 0.9177 - 581ms/epoch - 6ms/step\n",
      "Epoch 67/100\n",
      "100/100 - 1s - loss: 0.2926 - accuracy: 0.9166 - val_loss: 0.2840 - val_accuracy: 0.9189 - 616ms/epoch - 6ms/step\n",
      "Epoch 68/100\n",
      "100/100 - 1s - loss: 0.2914 - accuracy: 0.9170 - val_loss: 0.2830 - val_accuracy: 0.9201 - 571ms/epoch - 6ms/step\n",
      "Epoch 69/100\n",
      "100/100 - 1s - loss: 0.2903 - accuracy: 0.9168 - val_loss: 0.2825 - val_accuracy: 0.9191 - 570ms/epoch - 6ms/step\n",
      "Epoch 70/100\n",
      "100/100 - 1s - loss: 0.2890 - accuracy: 0.9176 - val_loss: 0.2818 - val_accuracy: 0.9199 - 577ms/epoch - 6ms/step\n",
      "Epoch 71/100\n",
      "100/100 - 1s - loss: 0.2879 - accuracy: 0.9176 - val_loss: 0.2806 - val_accuracy: 0.9210 - 569ms/epoch - 6ms/step\n",
      "Epoch 72/100\n",
      "100/100 - 1s - loss: 0.2867 - accuracy: 0.9178 - val_loss: 0.2789 - val_accuracy: 0.9204 - 564ms/epoch - 6ms/step\n",
      "Epoch 73/100\n",
      "100/100 - 1s - loss: 0.2856 - accuracy: 0.9188 - val_loss: 0.2781 - val_accuracy: 0.9209 - 578ms/epoch - 6ms/step\n",
      "Epoch 74/100\n",
      "100/100 - 1s - loss: 0.2846 - accuracy: 0.9186 - val_loss: 0.2785 - val_accuracy: 0.9204 - 560ms/epoch - 6ms/step\n",
      "Epoch 75/100\n",
      "100/100 - 1s - loss: 0.2835 - accuracy: 0.9192 - val_loss: 0.2770 - val_accuracy: 0.9206 - 563ms/epoch - 6ms/step\n",
      "Epoch 76/100\n",
      "100/100 - 1s - loss: 0.2824 - accuracy: 0.9190 - val_loss: 0.2753 - val_accuracy: 0.9213 - 574ms/epoch - 6ms/step\n",
      "Epoch 77/100\n",
      "100/100 - 1s - loss: 0.2815 - accuracy: 0.9198 - val_loss: 0.2751 - val_accuracy: 0.9217 - 592ms/epoch - 6ms/step\n",
      "Epoch 78/100\n",
      "100/100 - 1s - loss: 0.2804 - accuracy: 0.9200 - val_loss: 0.2741 - val_accuracy: 0.9215 - 572ms/epoch - 6ms/step\n",
      "Epoch 79/100\n",
      "100/100 - 1s - loss: 0.2792 - accuracy: 0.9208 - val_loss: 0.2729 - val_accuracy: 0.9222 - 625ms/epoch - 6ms/step\n",
      "Epoch 80/100\n",
      "100/100 - 1s - loss: 0.2783 - accuracy: 0.9206 - val_loss: 0.2721 - val_accuracy: 0.9224 - 589ms/epoch - 6ms/step\n",
      "Epoch 81/100\n",
      "100/100 - 1s - loss: 0.2773 - accuracy: 0.9210 - val_loss: 0.2715 - val_accuracy: 0.9234 - 596ms/epoch - 6ms/step\n",
      "Epoch 82/100\n",
      "100/100 - 1s - loss: 0.2765 - accuracy: 0.9218 - val_loss: 0.2707 - val_accuracy: 0.9224 - 581ms/epoch - 6ms/step\n",
      "Epoch 83/100\n",
      "100/100 - 1s - loss: 0.2753 - accuracy: 0.9213 - val_loss: 0.2696 - val_accuracy: 0.9230 - 587ms/epoch - 6ms/step\n",
      "Epoch 84/100\n",
      "100/100 - 1s - loss: 0.2744 - accuracy: 0.9219 - val_loss: 0.2694 - val_accuracy: 0.9243 - 584ms/epoch - 6ms/step\n",
      "Epoch 85/100\n",
      "100/100 - 1s - loss: 0.2732 - accuracy: 0.9226 - val_loss: 0.2679 - val_accuracy: 0.9234 - 572ms/epoch - 6ms/step\n",
      "Epoch 86/100\n",
      "100/100 - 1s - loss: 0.2725 - accuracy: 0.9224 - val_loss: 0.2667 - val_accuracy: 0.9233 - 570ms/epoch - 6ms/step\n",
      "Epoch 87/100\n",
      "100/100 - 1s - loss: 0.2715 - accuracy: 0.9224 - val_loss: 0.2669 - val_accuracy: 0.9238 - 570ms/epoch - 6ms/step\n",
      "Epoch 88/100\n",
      "100/100 - 1s - loss: 0.2703 - accuracy: 0.9231 - val_loss: 0.2668 - val_accuracy: 0.9247 - 580ms/epoch - 6ms/step\n",
      "Epoch 89/100\n",
      "100/100 - 1s - loss: 0.2695 - accuracy: 0.9231 - val_loss: 0.2652 - val_accuracy: 0.9248 - 565ms/epoch - 6ms/step\n",
      "Epoch 90/100\n",
      "100/100 - 1s - loss: 0.2685 - accuracy: 0.9235 - val_loss: 0.2637 - val_accuracy: 0.9259 - 557ms/epoch - 6ms/step\n",
      "Epoch 91/100\n",
      "100/100 - 1s - loss: 0.2676 - accuracy: 0.9237 - val_loss: 0.2632 - val_accuracy: 0.9255 - 591ms/epoch - 6ms/step\n",
      "Epoch 92/100\n",
      "100/100 - 1s - loss: 0.2668 - accuracy: 0.9240 - val_loss: 0.2619 - val_accuracy: 0.9262 - 571ms/epoch - 6ms/step\n",
      "Epoch 93/100\n",
      "100/100 - 1s - loss: 0.2657 - accuracy: 0.9247 - val_loss: 0.2616 - val_accuracy: 0.9268 - 582ms/epoch - 6ms/step\n",
      "Epoch 94/100\n",
      "100/100 - 1s - loss: 0.2649 - accuracy: 0.9247 - val_loss: 0.2608 - val_accuracy: 0.9270 - 596ms/epoch - 6ms/step\n",
      "Epoch 95/100\n",
      "100/100 - 1s - loss: 0.2640 - accuracy: 0.9247 - val_loss: 0.2599 - val_accuracy: 0.9264 - 591ms/epoch - 6ms/step\n",
      "Epoch 96/100\n",
      "100/100 - 1s - loss: 0.2630 - accuracy: 0.9252 - val_loss: 0.2597 - val_accuracy: 0.9267 - 566ms/epoch - 6ms/step\n",
      "Epoch 97/100\n",
      "100/100 - 1s - loss: 0.2621 - accuracy: 0.9254 - val_loss: 0.2589 - val_accuracy: 0.9268 - 572ms/epoch - 6ms/step\n",
      "Epoch 98/100\n",
      "100/100 - 1s - loss: 0.2612 - accuracy: 0.9256 - val_loss: 0.2582 - val_accuracy: 0.9268 - 580ms/epoch - 6ms/step\n",
      "Epoch 99/100\n",
      "100/100 - 1s - loss: 0.2603 - accuracy: 0.9262 - val_loss: 0.2578 - val_accuracy: 0.9260 - 567ms/epoch - 6ms/step\n",
      "Epoch 100/100\n",
      "100/100 - 1s - loss: 0.2592 - accuracy: 0.9265 - val_loss: 0.2562 - val_accuracy: 0.9279 - 563ms/epoch - 6ms/step\n"
     ]
    }
   ],
   "source": [
    "# training the model and saving metrics in history\n",
    "history = model.fit(X_train, Y_train, validation_data=(X_test, Y_test), verbose=2,\n",
    "          batch_size = 600,\n",
    "          epochs = 100\n",
    "          )\n",
    "\n",
    "## Now take a copy of the weights in the first hidden layer _after_ training on data\n",
    "weights_after_training = model.layers[0].get_weights()[0].copy()\n",
    "weights_after_training.resize(200704)"
   ]
  },
  {
   "cell_type": "markdown",
   "id": "9f49b609",
   "metadata": {},
   "source": [
    "## Q: 5.2\n",
    "\n",
    "##### Why are there 100 steps per epoc in this training? (0.5 marks)"
   ]
  },
  {
   "cell_type": "markdown",
   "id": "849846dd",
   "metadata": {},
   "source": [
    "### Answer: This number represents the number of iterations that the model does to train the dataset. The batchsize parameter is set to 600 and there is 60,000 images in total. This means that:\n",
    "### 60,000 images / (600 images / step) = 100 steps."
   ]
  },
  {
   "cell_type": "markdown",
   "id": "98ab5c0a",
   "metadata": {},
   "source": [
    "\n",
    "# Problem6: Understanding the training history\n",
    "\n",
    "### Cross-Checking our Model fit\n",
    "\n",
    "The returned history from our fit contains both the accuracy and the loss function over the epocs of training.\n",
    "\n",
    "This information can be accessed via: `history.history[]`\n",
    "\n",
    "We now want to make 2 plots:\n",
    "\n",
    "\n",
    "## 6.1 Plotting Evolution of model Accuracy\n",
    "\n",
    "This plot will show how the accuracy of the model has increased vs epocs of training.\n",
    "\n",
    "This should show for a good model that accuracy increases with the number of epocs.\n",
    "\n",
    "###### Hint:\n",
    "`history.history[accuracy]` vs `history.history[val_accuracy]` give the model accuracy during the training epocs."
   ]
  },
  {
   "cell_type": "code",
   "execution_count": 17,
   "id": "4ee2befc",
   "metadata": {},
   "outputs": [
    {
     "data": {
      "image/png": "[encoded data removed]",
      "text/plain": [
       "<Figure size 800x600 with 1 Axes>"
      ]
     },
     "metadata": {},
     "output_type": "display_data"
    }
   ],
   "source": [
    "accuracy_training = history.history['accuracy']\n",
    "accuracy_test = history.history['val_accuracy']\n",
    "\n",
    "plt.title('Model Accuracy')\n",
    "plt.plot(accuracy_training, label='Train')\n",
    "plt.plot(accuracy_test, label='Valildation')\n",
    "plt.legend()\n",
    "plt.ylabel('Epochs')\n",
    "plt.xlabel('Accuracy')\n",
    "plt.gcf().set_dpi(125)"
   ]
  },
  {
   "cell_type": "markdown",
   "id": "4be3e7ac",
   "metadata": {},
   "source": [
    "## 6.2 Plotting Evolution of model losses\n",
    "\n",
    "As above, but now we want to see how the loss function evolves using the `loss` vs `val_loss` parameters vs epoc."
   ]
  },
  {
   "cell_type": "code",
   "execution_count": 18,
   "id": "3e9a49dc-73b9-4c5e-9a81-4e0e0dd73975",
   "metadata": {
    "scrolled": true
   },
   "outputs": [
    {
     "data": {
      "image/png": "[encoded data removed]",
      "text/plain": [
       "<Figure size 800x600 with 1 Axes>"
      ]
     },
     "metadata": {},
     "output_type": "display_data"
    }
   ],
   "source": [
    "training_loss = history.history['loss']\n",
    "test_loss = history.history['val_loss']\n",
    "\n",
    "plt.title('Model Loss')\n",
    "plt.plot(training_loss, label='Train')\n",
    "plt.plot(test_loss, label='Validation')\n",
    "plt.legend()\n",
    "plt.xlabel('Epochs')\n",
    "plt.ylabel('Loss')\n",
    "plt.gcf().set_dpi(125)"
   ]
  },
  {
   "cell_type": "markdown",
   "id": "0bbf627c",
   "metadata": {},
   "source": [
    "## Q 6.3: Is this model over-training?"
   ]
  },
  {
   "cell_type": "markdown",
   "id": "76966f52",
   "metadata": {},
   "source": [
    "### Answer: The Model is not being over-trained since, the shape of the curves match in shape and curves do not stray away from each other."
   ]
  },
  {
   "cell_type": "markdown",
   "id": "9894d0cc",
   "metadata": {},
   "source": [
    "\n",
    "# Problem 7: Making predictions\n",
    "\n",
    "### Testing how well our model classifies different numbers\n",
    "\n",
    "In order to test how well our model actually classifies different numbers we need to be able to make predictions using it.\n",
    "\n",
    "Our model is designed to output the probability of each label being true (according to the model).\n",
    "\n",
    "With that in mind we want to get the best value from a single image.\n",
    "\n",
    "\n",
    "Our model has been defined to take an input of shape `(1, 784)`. This allows us to pass many images at a time to the model to either train or to have predictions made on.\n",
    "\n",
    "\n",
    "## 7.1 Predicting with our model\n",
    "\n",
    "### Want to make a prediction using the 10th element of the testing dataset\n",
    "\n",
    "Lets first make a single prediction using our dataset and model.\n",
    "\n",
    "To do this we need to:\n",
    "\n",
    "1. Take the 10th element from our test dataset\n",
    "2. Resize this to match the expected input dimensions from our model\n",
    "3. Make a prediction using this input using `model.predict`\n",
    "4. Make a bar chart showing the predictions from the model.\n",
    "\n",
    "###### Hint: `plt.bar` is useful for plotting the output"
   ]
  },
  {
   "cell_type": "code",
   "execution_count": 19,
   "id": "d8ca3e4a",
   "metadata": {
    "scrolled": true
   },
   "outputs": [
    {
     "name": "stdout",
     "output_type": "stream",
     "text": [
      "1/1 [==============================] - 0s 134ms/step\n"
     ]
    }
   ],
   "source": [
    "prediction = model.predict(np.array([X_test[9]]))"
   ]
  },
  {
   "cell_type": "code",
   "execution_count": 20,
   "id": "26fbb135",
   "metadata": {},
   "outputs": [
    {
     "data": {
      "image/png": "[encoded data removed]",
      "text/plain": [
       "<Figure size 640x480 with 1 Axes>"
      ]
     },
     "metadata": {},
     "output_type": "display_data"
    }
   ],
   "source": [
    "plt.bar(np.linspace(0, 9, 10), prediction[0])\n",
    "plt.gca().xaxis.set_minor_locator(mtick.AutoMinorLocator(2))\n",
    "plt.yscale('log')"
   ]
  },
  {
   "cell_type": "markdown",
   "id": "10c132c2",
   "metadata": {},
   "source": [
    "## 7.2 Making a Numerical Prediction\n",
    "\n",
    "The method `argmax` from numpy can help us change this prediction distribution from a vector to a single value.\n",
    "\n",
    "### Predict the number in this image ###"
   ]
  },
  {
   "cell_type": "code",
   "execution_count": 21,
   "id": "858db180",
   "metadata": {},
   "outputs": [
    {
     "data": {
      "text/plain": [
       "9"
      ]
     },
     "execution_count": 21,
     "metadata": {},
     "output_type": "execute_result"
    }
   ],
   "source": [
    "np.argmax(prediction[0])"
   ]
  },
  {
   "cell_type": "markdown",
   "id": "265939e0",
   "metadata": {},
   "source": [
    "# Problem 8 Testing the model\n",
    "\n",
    "One of the ways we can evaluate how well our model is spearating our input data we can build a confusion matrix.\n",
    "\n",
    "This allows us to see how many numbers are incorrectly identified using a labelled dataset.\n",
    "\n",
    "## Constructing a Confusion Matrix\n",
    "\n",
    "In order to construct a confusion matrix we need to make predictions over a large number of inputs and be able to compare them to labels which are known to be correct.\n",
    "\n",
    "Taking the 'training' dataset can collect numerical predictions using `argmax` for each of the 60,000 entries in the dataset.\n",
    "\n",
    "## 8.1 Make many predictions\n",
    "\n",
    "To collect enough data to produce our confusion matrix we can make predictions over the whole training (or test) dataset."
   ]
  },
  {
   "cell_type": "code",
   "execution_count": 22,
   "id": "396d4c5f",
   "metadata": {},
   "outputs": [
    {
     "name": "stdout",
     "output_type": "stream",
     "text": [
      "  50/1875 [..............................] - ETA: 8s "
     ]
    },
    {
     "name": "stdout",
     "output_type": "stream",
     "text": [
      "1875/1875 [==============================] - 4s 2ms/step\n"
     ]
    }
   ],
   "source": [
    "predics = model.predict(X_train)"
   ]
  },
  {
   "cell_type": "markdown",
   "id": "f4cff0da",
   "metadata": {},
   "source": [
    "## 8.2 Plot Confusion Matrix\n",
    "\n",
    "We can now construct a confusion matrix using `tf.math.confusion_matrix` and plot it with `sns.heatmap`."
   ]
  },
  {
   "cell_type": "code",
   "execution_count": 23,
   "id": "04eb9e67",
   "metadata": {},
   "outputs": [],
   "source": [
    "Y_train = np.array([np.argmax(Y_trainset) for Y_trainset in Y_train])\n",
    "predics_Val = np.array([np.argmax(predlist) for predlist in predics])"
   ]
  },
  {
   "cell_type": "code",
   "execution_count": 24,
   "id": "7d4c9f83",
   "metadata": {
    "scrolled": true
   },
   "outputs": [
    {
     "data": {
      "text/plain": [
       "<Axes: >"
      ]
     },
     "execution_count": 24,
     "metadata": {},
     "output_type": "execute_result"
    },
    {
     "data": {
      "image/png": "[encoded data removed]",
      "text/plain": [
       "<Figure size 640x480 with 2 Axes>"
      ]
     },
     "metadata": {},
     "output_type": "display_data"
    }
   ],
   "source": [
    "# Create the confusion matrix\n",
    "confusion_matrix = tf.math.confusion_matrix(Y_train, predics_Val)\n",
    "\n",
    "# Import the useful tools for plotting a confusion matrix\n",
    "import seaborn as sns\n",
    "from matplotlib.colors import LogNorm\n",
    "\n",
    "# Plot the confusion matrix using a heatmap\n",
    "sns.heatmap(confusion_matrix, annot=False, cmap='Blues', norm=LogNorm())"
   ]
  },
  {
   "cell_type": "markdown",
   "id": "a7dfdbd9",
   "metadata": {},
   "source": [
    "# 9: Making Predictions with new data\n",
    "\n",
    "Make aure that you download the sample image \n",
    "\n",
    "## 9.1 Load data from `sample_image.png`\n",
    "\n",
    "Complete the load_image method below to load a new numerical image file from disk, resize and normalize the data into a format which we can use with our model."
   ]
  },
  {
   "cell_type": "code",
   "execution_count": 25,
   "id": "2bfdd702",
   "metadata": {},
   "outputs": [],
   "source": [
    "# load and prepare the image\n",
    "def load_image(filename):\n",
    " # load the image\n",
    " #img = load_img(filename, target_size=(28, 28), color_mode='grayscale')\n",
    " img = load_img(filename, target_size=(28, 28), color_mode='grayscale')\n",
    " \n",
    " # convert to array\n",
    " img = img_to_array(img)\n",
    " img = np.array([img.flatten()])\n",
    " img /= np.max(img)\n",
    "\n",
    " return img\n",
    "\n",
    "# load the image\n",
    "img = load_image('sample_image.png')"
   ]
  },
  {
   "cell_type": "markdown",
   "id": "b18bf6ba",
   "metadata": {},
   "source": [
    "## 9.2 Make a prediction on the new data\n",
    "\n",
    "Now that we've loaded the sample file, use our model to make a prediction on this data."
   ]
  },
  {
   "cell_type": "code",
   "execution_count": 26,
   "id": "e74b2097",
   "metadata": {},
   "outputs": [
    {
     "name": "stdout",
     "output_type": "stream",
     "text": [
      "1/1 [==============================] - 0s 29ms/step\n",
      "Prediction: 3\n"
     ]
    },
    {
     "data": {
      "text/plain": [
       "Text(0, 0.5, 'Probability')"
      ]
     },
     "execution_count": 26,
     "metadata": {},
     "output_type": "execute_result"
    },
    {
     "data": {
      "image/png": "[encoded data removed]",
      "text/plain": [
       "<Figure size 640x480 with 2 Axes>"
      ]
     },
     "metadata": {},
     "output_type": "display_data"
    }
   ],
   "source": [
    "# predict the class\n",
    "predict_value = model.predict(img)\n",
    "digit = argmax(predict_value)\n",
    "print('Prediction: {}'.format(digit))\n",
    "\n",
    "fig = plt.figure()\n",
    "plt.subplot(2,1,1)\n",
    "plt.imshow(mpimg.imread('sample_image.png'), cmap='gray', interpolation='none')\n",
    "plt.title(\"Sample File\")\n",
    "plt.xticks([])\n",
    "plt.yticks([])\n",
    "plt.subplot(2,1,2)\n",
    "\n",
    "plt.bar(np.linspace(0, 9, 10), predict_value[0])\n",
    "plt.gca().xaxis.set_minor_locator(mtick.AutoMinorLocator(2))\n",
    "plt.yscale('log')\n",
    "plt.title(\"Predicted Value Distribution\")\n",
    "plt.xlabel('Prediction')\n",
    "plt.ylabel('Probability')"
   ]
  },
  {
   "cell_type": "markdown",
   "id": "9619684a",
   "metadata": {},
   "source": [
    "# Bonus 1: Analyzing Weights\n",
    "\n",
    "Before and after fitting our model we took copies of the weights used in training our dataset.\n",
    "\n",
    "If you construct a histogram of the weights from before fitting what distribution does it follow?\n",
    "\n",
    "## B1.1 Plot weights from before training"
   ]
  },
  {
   "cell_type": "code",
   "execution_count": 27,
   "id": "3319e643",
   "metadata": {
    "scrolled": true
   },
   "outputs": [
    {
     "data": {
      "text/plain": [
       "(array([19816., 19965., 19941., 20173., 20278., 20016., 19898., 20291.,\n",
       "        20187., 20139.]),\n",
       " array([-4.99998704e-02, -3.99998873e-02, -2.99999043e-02, -1.99999232e-02,\n",
       "        -9.99994017e-03,  4.28408384e-08,  1.00000259e-02,  2.00000089e-02,\n",
       "         2.99999900e-02,  3.99999730e-02,  4.99999560e-02]),\n",
       " <BarContainer object of 10 artists>)"
      ]
     },
     "execution_count": 27,
     "metadata": {},
     "output_type": "execute_result"
    },
    {
     "data": {
      "image/png": "[encoded data removed]",
      "text/plain": [
       "<Figure size 640x480 with 1 Axes>"
      ]
     },
     "metadata": {},
     "output_type": "display_data"
    }
   ],
   "source": [
    "fig = plt.figure()\n",
    "plt.hist(weights_before_training)"
   ]
  },
  {
   "cell_type": "markdown",
   "id": "c7e19657",
   "metadata": {},
   "source": [
    "## B1.2 Plot the weights After training"
   ]
  },
  {
   "cell_type": "code",
   "execution_count": 28,
   "id": "a5ccd256",
   "metadata": {
    "scrolled": true
   },
   "outputs": [
    {
     "data": {
      "text/plain": [
       "(array([4.6000e+01, 1.5460e+03, 4.1281e+04, 5.3702e+04, 5.3904e+04,\n",
       "        4.5121e+04, 4.6440e+03, 4.0500e+02, 4.7000e+01, 8.0000e+00]),\n",
       " array([-0.10910673, -0.0817735 , -0.05444027, -0.02710704,  0.0002262 ,\n",
       "         0.02755943,  0.05489266,  0.08222589,  0.10955912,  0.13689235,\n",
       "         0.16422558]),\n",
       " <BarContainer object of 10 artists>)"
      ]
     },
     "execution_count": 28,
     "metadata": {},
     "output_type": "execute_result"
    },
    {
     "data": {
      "image/png": "[encoded data removed]",
      "text/plain": [
       "<Figure size 640x480 with 1 Axes>"
      ]
     },
     "metadata": {},
     "output_type": "display_data"
    }
   ],
   "source": [
    "fig = plt.figure()\n",
    "plt.hist(weights_after_training)"
   ]
  },
  {
   "cell_type": "markdown",
   "id": "c3c5ec28",
   "metadata": {},
   "source": [
    "## B1.3 Compare the weights\n",
    "\n",
    "Construct a plot comparing the weights before fitting to the values after fitting.\n",
    "\n",
    "##### Hint: You may need to use a log plot in y to see the full distribution(s)"
   ]
  },
  {
   "cell_type": "code",
   "execution_count": 29,
   "id": "59ba82be",
   "metadata": {
    "scrolled": true
   },
   "outputs": [
    {
     "data": {
      "image/png": "[encoded data removed]",
      "text/plain": [
       "<Figure size 640x480 with 1 Axes>"
      ]
     },
     "metadata": {},
     "output_type": "display_data"
    }
   ],
   "source": [
    "fig = plt.figure()\n",
    "plt.title('Weight Before and After Training')\n",
    "plt.hist(weights_after_training,  label='After')\n",
    "plt.hist(weights_before_training, label='Before')\n",
    "plt.legend()\n",
    "plt.yscale('log')"
   ]
  },
  {
   "cell_type": "markdown",
   "id": "8e02b2d4",
   "metadata": {},
   "source": [
    "## B1.4 Q: How might the weights vary if you train the model for an additional 80 steps?"
   ]
  },
  {
   "cell_type": "markdown",
   "id": "62b75f3b",
   "metadata": {},
   "source": [
    "### Answer:\n",
    "\n",
    "### FINISH ME ###"
   ]
  },
  {
   "cell_type": "markdown",
   "id": "30cab702",
   "metadata": {},
   "source": [
    "## B1.5 Q: How would inclding a regularizer impact the distribution of weights after training?"
   ]
  },
  {
   "cell_type": "markdown",
   "id": "d87d45f7",
   "metadata": {},
   "source": [
    "### Answer:\n",
    "\n",
    "### FINISH ME ###"
   ]
  },
  {
   "cell_type": "markdown",
   "id": "59248c16",
   "metadata": {},
   "source": [
    "# Bonus 2: Loading a model and optimizing it further"
   ]
  },
  {
   "cell_type": "markdown",
   "id": "e9e8c458",
   "metadata": {},
   "source": [
    "## B2.1 Saving our model\n",
    "\n",
    "Lets save our model to disk so we can take it home and use it to identify numbers"
   ]
  },
  {
   "cell_type": "code",
   "execution_count": 30,
   "id": "b92a8476",
   "metadata": {},
   "outputs": [
    {
     "name": "stdout",
     "output_type": "stream",
     "text": [
      "Saved trained model at ./keras_mnist.keras \n"
     ]
    }
   ],
   "source": [
    "# saving the model\n",
    "model_path = './keras_mnist.keras'\n",
    "model.save(model_path)\n",
    "print('Saved trained model at %s ' % model_path)"
   ]
  },
  {
   "cell_type": "markdown",
   "id": "c424cc24",
   "metadata": {},
   "source": [
    "## B2.2 Lets load our model and do some further training\n",
    "\n",
    "We can load a keras model from disk using the `'load_model'` utility."
   ]
  },
  {
   "cell_type": "code",
   "execution_count": 31,
   "id": "07d1c9f7-6ad6-44e8-9ce2-593995954bc6",
   "metadata": {
    "scrolled": true
   },
   "outputs": [
    {
     "name": "stdout",
     "output_type": "stream",
     "text": [
      "Model: \"sequential\"\n",
      "_________________________________________________________________\n",
      " Layer (type)                Output Shape              Param #   \n",
      "=================================================================\n",
      " dense (Dense)               (None, 256)               200960    \n",
      "                                                                 \n",
      " activation (Activation)     (None, 256)               0         \n",
      "                                                                 \n",
      " dense_1 (Dense)             (None, 256)               65792     \n",
      "                                                                 \n",
      " activation_1 (Activation)   (None, 256)               0         \n",
      "                                                                 \n",
      " dense_2 (Dense)             (None, 10)                2570      \n",
      "                                                                 \n",
      " activation_2 (Activation)   (None, 10)                0         \n",
      "                                                                 \n",
      "=================================================================\n",
      "Total params: 269,322\n",
      "Trainable params: 269,322\n",
      "Non-trainable params: 0\n",
      "_________________________________________________________________\n"
     ]
    }
   ],
   "source": [
    "# load model\n",
    "nu_model = load_model('./keras_mnist.keras')\n",
    "nu_model.summary()"
   ]
  },
  {
   "cell_type": "markdown",
   "id": "227e1c59",
   "metadata": {},
   "source": [
    "## B2.3 Make some small changes this time\n",
    "\n",
    "Now we want to try training using the `'Adam'` optimizer so re-compile the model.\n",
    "\n",
    "(If you re-run model.summary you will find it doesn't need to be re-built)\n"
   ]
  },
  {
   "cell_type": "code",
   "execution_count": 32,
   "id": "5b85009f",
   "metadata": {},
   "outputs": [
    {
     "name": "stdout",
     "output_type": "stream",
     "text": [
      "Model: \"sequential\"\n",
      "_________________________________________________________________\n",
      " Layer (type)                Output Shape              Param #   \n",
      "=================================================================\n",
      " dense (Dense)               (None, 256)               200960    \n",
      "                                                                 \n",
      " activation (Activation)     (None, 256)               0         \n",
      "                                                                 \n",
      " dense_1 (Dense)             (None, 256)               65792     \n",
      "                                                                 \n",
      " activation_1 (Activation)   (None, 256)               0         \n",
      "                                                                 \n",
      " dense_2 (Dense)             (None, 10)                2570      \n",
      "                                                                 \n",
      " activation_2 (Activation)   (None, 10)                0         \n",
      "                                                                 \n",
      "=================================================================\n",
      "Total params: 269,322\n",
      "Trainable params: 269,322\n",
      "Non-trainable params: 0\n",
      "_________________________________________________________________\n"
     ]
    }
   ],
   "source": [
    "# compiling the sequential model\n",
    "nu_model.compile(loss='categorical_crossentropy', metrics=['accuracy'], optimizer='Adam')\n",
    "\n",
    "# Print a helpful summary of our model\n",
    "nu_model.summary()"
   ]
  },
  {
   "cell_type": "markdown",
   "id": "9a88cd17",
   "metadata": {},
   "source": [
    "## B2.4 Re-Train\n",
    "\n",
    "We don't have new data to train our model on, but what happens if we continue training with our existing dataset?\n",
    "\n",
    "Re-train as before with the same data and batch/epoch sizes."
   ]
  },
  {
   "cell_type": "code",
   "execution_count": null,
   "id": "98f0a329",
   "metadata": {},
   "outputs": [],
   "source": [
    "# training the model and saving metrics in history\n",
    "nu_history = nu_model.fit(X_train, Y_train, validation_data=(X_test, Y_test), verbose=2,\n",
    "          batch_size=600,\n",
    "          epochs=30\n",
    "          )"
   ]
  },
  {
   "cell_type": "markdown",
   "id": "35a1290e",
   "metadata": {},
   "source": [
    "## B2.5 Evaluating Extended Model Accuracy\n",
    "\n",
    "Lets make another set of plots to compare how our model accuracy improved with additional training epochs."
   ]
  },
  {
   "cell_type": "code",
   "execution_count": null,
   "id": "487f3c26",
   "metadata": {
    "scrolled": true
   },
   "outputs": [],
   "source": [
    "accuracy_training = nu_history.history['accuracy']\n",
    "accuracy_test = nu_history.history['val_accuracy']\n",
    "\n",
    "# plotting the metrics\n",
    "fig = plt.figure()\n",
    "plt.plot(accuracy_training)\n",
    "plt.plot(accuracy_test)\n",
    "plt.title('model accuracy')\n",
    "plt.ylabel('accuracy')\n",
    "plt.xlabel('epoch')\n",
    "plt.legend(['train', 'validation'], loc='lower right')"
   ]
  },
  {
   "cell_type": "markdown",
   "id": "de963f38",
   "metadata": {},
   "source": [
    "## B2.6 Compare Extended loss functions\n",
    "\n",
    "As above lets generate some new plots for our loss function evolution"
   ]
  },
  {
   "cell_type": "code",
   "execution_count": null,
   "id": "dac801c5",
   "metadata": {},
   "outputs": [],
   "source": [
    "training_loss = nu_history.history['loss']\n",
    "validation_loss = nu_history.history['val_loss']\n",
    "\n",
    "# plotting the metrics\n",
    "fig = plt.figure()\n",
    "plt.plot(training_loss)\n",
    "plt.plot(validation_loss)\n",
    "plt.title('model loss')\n",
    "plt.ylabel('loss')\n",
    "plt.xlabel('epoch')\n",
    "plt.legend(['train', 'validation'], loc='upper right')"
   ]
  },
  {
   "cell_type": "markdown",
   "id": "d4acf560",
   "metadata": {},
   "source": [
    "## B2.7 Have we over-trained?\n",
    "\n",
    "Using the above plots do you think we've now over-trained our model?"
   ]
  },
  {
   "cell_type": "markdown",
   "id": "dec6f3cd",
   "metadata": {},
   "source": [
    "### Answer:\n",
    "\n",
    "### FINISH ME ###"
   ]
  },
  {
   "cell_type": "code",
   "execution_count": null,
   "id": "cb1e9452",
   "metadata": {},
   "outputs": [],
   "source": []
  }
 ],
 "metadata": {
  "kernelspec": {
   "display_name": "Python 3 (ipykernel)",
   "language": "python",
   "name": "python3"
  },
  "language_info": {
   "codemirror_mode": {
    "name": "ipython",
    "version": 3
   },
   "file_extension": ".py",
   "mimetype": "text/x-python",
   "name": "python",
   "nbconvert_exporter": "python",
   "pygments_lexer": "ipython3",
   "version": "3.10.8"
  }
 },
 "nbformat": 4,
 "nbformat_minor": 5
}
