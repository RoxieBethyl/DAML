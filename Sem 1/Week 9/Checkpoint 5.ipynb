{
 "cells": [
  {
   "cell_type": "markdown",
   "metadata": {},
   "source": [
    "# Checkpoint 5"
   ]
  },
  {
   "cell_type": "code",
   "execution_count": 317,
   "metadata": {},
   "outputs": [],
   "source": [
    "import numpy as np\n",
    "import matplotlib.pyplot as plt\n",
    "from scipy.stats import binom, norm, poisson, chi2\n",
    "from scipy.special import erfinv\n",
    "from scipy.integrate import quad\n",
    "from iminuit import Minuit"
   ]
  },
  {
   "cell_type": "markdown",
   "metadata": {},
   "source": [
    "### Problem #1 (2 points):\n",
    "A company manufacturing computer monitors claims that the faulty rate of the screen population is 5%. We want to test if the claim is true. We have ordered a sample of 100 monitors to test. We choose <i>t</i><sub>cut</sub> = 9 as the maximum number of faulty monitors that we are willing to have and still accept that the manufacturer’s claim is true.\n",
    "<br>\n",
    "<br>\n",
    "(a) What is the significance level (Type-I error), <i>α</i>, of the chosen threshold? <br>\n",
    "(b) What is the probability <i>β</i> of a Type-II error if the true faulty rate is 15%?\n",
    "<br>&nbsp;&nbsp;&nbsp;&nbsp;&nbsp;NB: we can only compute the Type-II error for a concrete H1 scenario (<i>i.e.</i> fixed faulty rate), but not if the faulty rate is unknown!<br>\n",
    "<br>\n",
    "Hint: Use ```scipy.stats.binom``` (scipy’s binomial distribution) and its method ```pmf```."
   ]
  },
  {
   "cell_type": "code",
   "execution_count": 318,
   "metadata": {},
   "outputs": [],
   "source": [
    "n = 100\n",
    "p = 5/n\n",
    "t_cut = 9\n",
    "p_true = 15/100"
   ]
  },
  {
   "cell_type": "markdown",
   "metadata": {},
   "source": [
    "Part a)"
   ]
  },
  {
   "cell_type": "code",
   "execution_count": 319,
   "metadata": {},
   "outputs": [
    {
     "name": "stdout",
     "output_type": "stream",
     "text": [
      "The significance level is found as for the Type-I error is: 0.028188294163416727\n"
     ]
    }
   ],
   "source": [
    "dist = binom(n, p)\n",
    "\n",
    "#Taking the opposite probibabilty and then subtracting by one to accomodate for infinity values\n",
    "alpha = 1 - np.sum(dist.pmf(np.arange(0, t_cut+1)))\n",
    "print(\"The significance level is found as for the Type-I error is:\", alpha)"
   ]
  },
  {
   "cell_type": "markdown",
   "metadata": {},
   "source": [
    "Part b)"
   ]
  },
  {
   "cell_type": "code",
   "execution_count": 320,
   "metadata": {},
   "outputs": [
    {
     "name": "stdout",
     "output_type": "stream",
     "text": [
      "The probability beta of a Type-II error is found as: 0.05509463169229438\n"
     ]
    }
   ],
   "source": [
    "dist = binom(n, p_true)\n",
    "beta = np.sum(dist.pmf(np.arange(0, t_cut+1)))\n",
    "print(\"The probability beta of a Type-II error is found as:\", beta)"
   ]
  },
  {
   "cell_type": "markdown",
   "metadata": {},
   "source": [
    "## Problem #2 (3 points):\n",
    "A Time-of-Flight (ToF) system designed to separate kaons (m<sub>K</sub> = 493.7 MeV/<i>c</i><sup>2</sup>) from pions (<i>m<sub>π</sub></i> = 139.6 MeV/<i>c</i><sup>2</sup>) consists of two scintillation counters that are a distance <i>L</i> = 20 m apart. For a particle with mass <i>m</i> and momentum <i>p</i>, the time needed to travel between the two scintillators is <br>\n",
    "$$t = \\frac{L}{c} \\times \\sqrt{1 +\\left(\\frac{mc}{p}^{2}\\right)} $$\n",
    "<br> where $c$ = 3 × 10<sup>8</sup> m/s is the speed of light in vacuum. The time resolution of the ToF system is <i>σ</i> = 400 ps (i.e. for an average time $t$, the time reported by the system follows a Gaussian distribution with mean $t$ and width $σ$).<br>\n",
    "<br>\n",
    "(a) Write a ```Gaussian``` class that calculates the integral between an arbitrary point ```xval``` and $\\pm \\infty$. Name these methods ```integralAbove``` and &nbsp;&nbsp;&nbsp;&nbsp;&nbsp;```integralBelow```, to be used for calculating <i>α</i> and <i>β</i> values, as discussed below.\n",
    "<br>&nbsp;&nbsp;&nbsp;&nbsp;&nbsp;Hint: You should try to recycle some of the code developed for the Week-8, CP #4 in order to save time. Be careful to choose practical values for $\\pm \\infty$! \n",
    "<br>\n",
    "<br>(b) Create another class ROC that calculates (α<sub>i</sub>, β<sub>i</sub>) pairs of ToF performancefor distinguishing between pions and kaons for a given momentum p and &nbsp;&nbsp;&nbsp;&nbsp;&nbsp;an arbitrary threshold $t^{i}_{cut}$. Use the class to produce 100 performance points evenly spaced between the average travel times for kaons and pions. <br>\n",
    "<br>(c) Create a single plot that overlays the ROC kaon-pion separation curves for $p$ = 3 GeV/$c$, $p$ = 4 GeV/$c$ and $p$ = 6 GeV/$c$. Which momentum value &nbsp;&nbsp;&nbsp;&nbsp;&nbsp;gives better performance and why?\n",
    "<br>\n",
    "<br>Hint: it is more practical to use natural units than SI in the code implementation."
   ]
  },
  {
   "cell_type": "markdown",
   "metadata": {},
   "source": [
    "Part a)"
   ]
  },
  {
   "cell_type": "code",
   "execution_count": 321,
   "metadata": {},
   "outputs": [],
   "source": [
    "# Gaussian class recycled from week 8\n",
    "class gaussian:\n",
    "    def __init__(self, L, mass, p, sigma):\n",
    "        self.mean = (L/(3*10**8)) * np.sqrt(1 + np.square(mass/p))\n",
    "        self.sigma = sigma\n",
    "        self.pdf = norm(self.mean, self.sigma).pdf\n",
    "\n",
    "    #def evaluate(self):\n",
    "    #    return np.random.normal(self.mean, self.sigma)\n",
    "\n",
    "    def integralAbove(self, xval):\n",
    "        #right-ward\n",
    "        return (1 - quad(self.pdf, 0, xval)[0])\n",
    "    \n",
    "    def integralBelow(self, xval):\n",
    "        #left-ward\n",
    "        return (quad(self.pdf, 0, xval)[0])"
   ]
  },
  {
   "cell_type": "markdown",
   "metadata": {},
   "source": [
    "Part b)"
   ]
  },
  {
   "cell_type": "code",
   "execution_count": 322,
   "metadata": {},
   "outputs": [],
   "source": [
    "class ROC:\n",
    "    def __init__(self, no_of_events, L, mass_k, mass_p, p, sigma):\n",
    "        self.gauss_pion = gaussian(L, mass_p, p, sigma)\n",
    "        self.gauss_kion = gaussian(L, mass_k, p, sigma)\n",
    "        self.event_No = np.linspace(self.gauss_pion.mean, self.gauss_kion.mean, no_of_events)\n",
    "        \n",
    "    def evaluate(self):\n",
    "        alpha_vals = []\n",
    "        beta_vals = []\n",
    "        for x in self.event_No:\n",
    "            alpha_vals.append(self.gauss_pion.integralAbove(x))\n",
    "            beta_vals.append(self.gauss_kion.integralBelow(x))\n",
    "    \n",
    "        return np.array(alpha_vals), np.array(beta_vals)\n"
   ]
  },
  {
   "cell_type": "code",
   "execution_count": 323,
   "metadata": {},
   "outputs": [],
   "source": [
    "L = 20 #m/s\n",
    "m_k = 493.7 #MeV/c^2\n",
    "m_pi = 139.6 #MeV/c^2\n",
    "number_cuts = 100\n",
    "\n",
    "sigma = 400*10**(-12) #s"
   ]
  },
  {
   "cell_type": "code",
   "execution_count": 324,
   "metadata": {},
   "outputs": [],
   "source": [
    "p_3 = 3*(10**(3)) #MeV/c\n",
    "error_vals_3 = ROC(number_cuts, L, m_k, m_pi, p_3, sigma).evaluate()"
   ]
  },
  {
   "cell_type": "code",
   "execution_count": 325,
   "metadata": {},
   "outputs": [],
   "source": [
    "p_4 = 4*(10**(3)) #MeV/c\n",
    "error_vals_4 = ROC(number_cuts, L, m_k, m_pi, p_4, sigma).evaluate()"
   ]
  },
  {
   "cell_type": "code",
   "execution_count": 326,
   "metadata": {},
   "outputs": [],
   "source": [
    "p_6 = 6*(10**(3)) #MeV/c\n",
    "error_vals_6 = ROC(number_cuts, L, m_k, m_pi, p_6, sigma).evaluate()"
   ]
  },
  {
   "cell_type": "code",
   "execution_count": 327,
   "metadata": {},
   "outputs": [
    {
     "data": {
      "image/png": "[encoded data removed]",
      "text/plain": [
       "<Figure size 640x480 with 1 Axes>"
      ]
     },
     "metadata": {},
     "output_type": "display_data"
    }
   ],
   "source": [
    "plt.plot(error_vals_3[0], error_vals_3[1], label=\"3 GeV/c\")\n",
    "plt.plot(error_vals_4[0], error_vals_4[1], label=\"4 GeV/c\")\n",
    "plt.plot(error_vals_6[0], error_vals_6[1], label=\"6 GeV/c\")\n",
    "\n",
    "plt.xlabel(\"Alpha\")\n",
    "plt.ylabel(\"Beta\")\n",
    "plt.legend()\n",
    "plt.show()"
   ]
  },
  {
   "cell_type": "markdown",
   "metadata": {},
   "source": [
    "Where the momentum is defined as equal to 3 GeV/$c$ will give the best performance since this curve is closet to the 0-point of the graph and therefore, will have the point that is closest to the center (0, 0). For this curve, the alpha and beta values are best compared the the larger momentums."
   ]
  },
  {
   "cell_type": "markdown",
   "metadata": {},
   "source": [
    "## Problem 3"
   ]
  },
  {
   "cell_type": "markdown",
   "metadata": {},
   "source": [
    "In 1992, the ARGUS $e^{+}e^{−}$ experiment reported the observation of the charmed anddoubly strange baryon $\\Omega_{c}$ through its decay channel $\\Xi^{−}\\Kappa^{−}\\pi^{+}\\pi^{+}$. The obtained mass spectrum is shown in the figure below."
   ]
  },
  {
   "cell_type": "code",
   "execution_count": 328,
   "metadata": {},
   "outputs": [
    {
     "name": "stdout",
     "output_type": "stream",
     "text": [
      "total # of events= 43.0  # of bins= 50\n"
     ]
    },
    {
     "data": {
      "image/png": "[encoded data removed]",
      "text/plain": [
       "<Figure size 640x480 with 1 Axes>"
      ]
     },
     "metadata": {},
     "output_type": "display_data"
    },
    {
     "name": "stdout",
     "output_type": "stream",
     "text": [
      "Figure 6: The invariant-mass spectrum reported by the ARGUS experiment.\n"
     ]
    }
   ],
   "source": [
    "import matplotlib.pyplot as plt\n",
    "import numpy as np\n",
    "%matplotlib inline\n",
    "\n",
    "nbins = 50\n",
    "XMIN = 2.4 # in GeV\n",
    "XMAX = 3.0 # in GeV\n",
    "\n",
    "bins = np.linspace(XMIN, XMAX, nbins)\n",
    "counts = np.array ([0 , 0 , 1 , 2 , 0 , 1 , 1 , 0 , 0 , 1 , 2 , 1 , 1 , 2 , 1 , 0 , 0 , 0 , 2 , 1 , 1 , \n",
    "                    0 , 1 , 1 , 1 , 3 , 3 , 4 , 2 , 0 , 1 , 0 , 1 , 0 , 1 , 1 , 0 , 0 , 0 , 1 , 0 , 1 , 0 , \n",
    "                    0 , 1 , 2 , 0 , 2 , 0 , 0]).astype(float)\n",
    "\n",
    "tot = 0\n",
    "for i in counts:\n",
    "    tot += i\n",
    "\n",
    "print(\"total # of events=\" , tot, \" # of bins=\", len(counts))\n",
    "\n",
    "plt.hist(bins, bins=len(counts), weights=counts, range=(min(bins), max(bins)))\n",
    "plt.xlabel(\"$m(Ξ^- K^- π^+ π^+$) [GeV]\")\n",
    "plt.ylabel(\"entries\")\n",
    "plt.title(\"ARGUS Ω$_C$ Signal Peak\")\n",
    "plt.show()\n",
    "print(\"Figure 6: The invariant-mass spectrum reported by the ARGUS experiment.\")"
   ]
  },
  {
   "cell_type": "markdown",
   "metadata": {},
   "source": [
    "You should get a total of 43 events and 50 bins in the printout.<br>\n",
    "<br>\n",
    "3.1 (a) Assuming that all the events are caused by background, calculate the average number of backgrounds events per bin.<br>\n",
    "<br>&nbsp;&nbsp;&nbsp;&nbsp;&nbsp;\n",
    "(b) Use method numpy.argmax to find the location of the peak in the massspectrum (in GeV).<br>\n",
    "<br>&nbsp;&nbsp;&nbsp;&nbsp;&nbsp;\n",
    "(c) Define a $\\pm 2.5 \\sigma$ window around the peak ($\\sigma$ = 12 MeV, the width of the histogram bin), and count the total number of events $N_{obs}$ in this window &nbsp;&nbsp;&nbsp;&nbsp;&nbsp;&nbsp;&nbsp;&nbsp;&nbsp;&nbsp;&nbsp;(use 5 bins in total, with the middle bin containing the peak).<br>\n",
    "<br>&nbsp;&nbsp;&nbsp;&nbsp;&nbsp;\n",
    "(d) Estimate the number of expected background events within the windowNbgd, and calculate the probability for a Poisson distribution with mean &nbsp;&nbsp;&nbsp;&nbsp;&nbsp;&nbsp;&nbsp;&nbsp;&nbsp;&nbsp;&nbsp;$N_{bgd}$ to produce $N_{obs}$ or more events, and the number of standard deviations it corresponds to.<br>\n",
    "<br>\n",
    "&nbsp;&nbsp;&nbsp;&nbsp;&nbsp;Hint #1: Use ```scipy.stats.poisson``` (scipy’s Poisson distribution), and its method ```pmf``` or ```sf```.<br>\n",
    "&nbsp;&nbsp;&nbsp;&nbsp;&nbsp;Hint #2: Use ```scipy.special.erfinv(1 - pvalue) * np.sqrt(2)``` to convert a p-value into the corresponding number of standard deviations.<br>\n",
    "<br><br>\n",
    "3.2 We will repeat the significance evaluation, this time by doing a signal-plus-background (H1) and a background-only (H0) fits. Most of the code we will &nbsp;&nbsp;&nbsp;&nbsp;&nbsp;need here has been developed in (and can be recycled from) the Week-8, CP#4.<br>\n",
    "<br>\n",
    "&nbsp;&nbsp;&nbsp;&nbsp;&nbsp;(a) Write two classes, ```Flat``` (to describe the flat background), and ```Gaussian``` (to describe the hypothetical signal). Class ```Flat``` should be a simplified &nbsp;&nbsp;&nbsp;&nbsp;&nbsp;&nbsp;&nbsp;&nbsp;&nbsp;&nbsp;version of class ```Linear``` developed for the Week-8, CP#5.<br>\n",
    "<br>\n",
    "&nbsp;&nbsp;&nbsp;&nbsp;&nbsp;(b) We will need a minimiser that returns the $\\chi^{2}$ (as minimised by the fit). As discussed in previous weeks, you are welcome to use your favourite &nbsp;&nbsp;&nbsp;&nbsp;&nbsp;&nbsp;&nbsp;&nbsp;&nbsp;&nbsp;minimiser (and you should really have one available by now). Examples: ```iminuit```, your own custom implementation of the log-likelihood, or the($\\chi^{2}$&nbsp;&nbsp;&nbsp;&nbsp;&nbsp;&nbsp;&nbsp;&nbsp;&nbsp;&nbsp;-equivalent of the) log-likelihood for a binned fit, as described in theWeek-8 lecture notes (and in Ref. [6]).<br>\n",
    "<br>\n",
    "&nbsp;&nbsp;&nbsp;&nbsp;&nbsp;(c) Unlike what we had done in Week-8, here we will assume that we do notknow the location (i.e. Gaussian mean) of the hypothetical signal, but we &nbsp;&nbsp;&nbsp;&nbsp;&nbsp;&nbsp;&nbsp;&nbsp;&nbsp;&nbsp;do know its width (Gaussian sigma, equal to the width of the histogram bin). We will perform $1 + N$ fits: the first one for the H0 hypothesis, and &nbsp;&nbsp;&nbsp;&nbsp;&nbsp;&nbsp;&nbsp;&nbsp;&nbsp;&nbsp;the remaining $N$ fits will scan the mass spectrum by assuming each time that the location of the signal is fixed at the centre of the $i$-th bin. For &nbsp;&nbsp;&nbsp;&nbsp;&nbsp;&nbsp;&nbsp;&nbsp;&nbsp;&nbsp;each of the $N$ fits, calculate the $\\chi^2(H0) − \\chi^2(H1)$ difference. Put all these values into a histogram with the mass value indicating the Gaussian &nbsp;&nbsp;&nbsp;&nbsp;&nbsp;&nbsp;&nbsp;&nbsp;&nbsp;&nbsp;mean as the abscissa (i.e. the x-coordinate), and plot it.<br>\n",
    "<br>\n",
    "&nbsp;&nbsp;&nbsp;&nbsp;&nbsp;(d) Find the maximum value of the $\\chi^2(H0) − \\chi^2(H1)$ array (using ```numpy.amax```). Use (Wilk’s theorem, and) previously seen scipy methods &nbsp;&nbsp;&nbsp;&nbsp;&nbsp;&nbsp;&nbsp;&nbsp;&nbsp;&nbsp;```stats.chi2.cdf``` and ```special.erfinv``` to calculate the significance of the deviation."
   ]
  },
  {
   "cell_type": "markdown",
   "metadata": {},
   "source": [
    "#### 3.1"
   ]
  },
  {
   "cell_type": "markdown",
   "metadata": {},
   "source": [
    "Part a)"
   ]
  },
  {
   "cell_type": "code",
   "execution_count": 329,
   "metadata": {},
   "outputs": [
    {
     "name": "stdout",
     "output_type": "stream",
     "text": [
      "The average number of background events per bin is: 0.86\n"
     ]
    }
   ],
   "source": [
    "counts_bin = np.average(counts)\n",
    "print(\"The average number of background events per bin is:\", counts_bin)"
   ]
  },
  {
   "cell_type": "markdown",
   "metadata": {},
   "source": [
    "Part b)"
   ]
  },
  {
   "cell_type": "code",
   "execution_count": 330,
   "metadata": {},
   "outputs": [
    {
     "name": "stdout",
     "output_type": "stream",
     "text": [
      "The location where the peak in the mass spectrum is: 27\n"
     ]
    }
   ],
   "source": [
    "peak_i = np.argmax(counts)\n",
    "print(\"The location where the peak in the mass spectrum is:\", peak_i)"
   ]
  },
  {
   "cell_type": "markdown",
   "metadata": {},
   "source": [
    "Part c)"
   ]
  },
  {
   "cell_type": "code",
   "execution_count": 331,
   "metadata": {},
   "outputs": [
    {
     "name": "stdout",
     "output_type": "stream",
     "text": [
      "The total number of counts within this plus or minus 2.5 window: 12.0\n"
     ]
    }
   ],
   "source": [
    "sigma = 0.012 #GeV\n",
    "width_half = np.round(2.5)\n",
    "\n",
    "peak = np.average(counts)\n",
    "N_obs = np.sum(counts[int(peak_i-width_half):int(peak_i+width_half)])\n",
    "print(\"The total number of counts within this plus or minus 2.5 window:\", N_obs)"
   ]
  },
  {
   "cell_type": "markdown",
   "metadata": {},
   "source": [
    "Part d)"
   ]
  },
  {
   "cell_type": "code",
   "execution_count": 332,
   "metadata": {},
   "outputs": [
    {
     "name": "stdout",
     "output_type": "stream",
     "text": [
      "No of excepted background events: 4.3\n",
      "Probability of producing N_obs or more: 0.0016660844240050654\n",
      "The number of standard deviations this probability corresponds to is: 3.1440825339336467\n"
     ]
    }
   ],
   "source": [
    "tot_bkg_window = counts_bin*5\n",
    "print(\"No of excepted background events:\", tot_bkg_window)\n",
    "\n",
    "dist = poisson(tot_bkg_window)\n",
    "p_val = 1 - np.sum(dist.pmf(np.arange(0, N_obs)))\n",
    "print(\"Probability of producing N_obs or more:\", p_val)\n",
    "\n",
    "z_score = erfinv(1 - p_val) * np.sqrt(2)\n",
    "print(\"The number of standard deviations this probability corresponds to is:\", z_score)"
   ]
  },
  {
   "cell_type": "markdown",
   "metadata": {},
   "source": [
    "#### 3.2"
   ]
  },
  {
   "cell_type": "markdown",
   "metadata": {},
   "source": [
    "Part a)"
   ]
  },
  {
   "cell_type": "code",
   "execution_count": 333,
   "metadata": {},
   "outputs": [],
   "source": [
    "# Class recycled from week 8 (Linear)\n",
    "# Removed any slope arguments since model is flat which would output a horizontal line\n",
    "class flat:\n",
    "    def __init__(self, intercept, lolimit, hilimit):\n",
    "        self.intercept = intercept\n",
    "        self.lolimit  = lolimit \n",
    "        self.hilimit = hilimit\n",
    "       \n",
    "    def evaluate(self, t):\n",
    "        return self.intercept\n",
    "    \n",
    "    def integral(self):\n",
    "        return quad(self.evaluate, self.lolimit, self.hilimit)[0]\n",
    "    \n",
    "\n",
    "\n",
    "# Gaussian recycled from week 8\n",
    "class gaussian:\n",
    "    def __init__(self, mean, sigma):\n",
    "        self.mean = mean\n",
    "        self.sigma = sigma\n",
    "        self.pdf = norm(self.mean, self.sigma).pdf\n",
    "\n",
    "    def evaluate(self, x):\n",
    "        return np.exp(-(x-self.mean)**2/(2*(self.sigma**2)))\n",
    "\n",
    "    def integralAbove(self, xval):\n",
    "        #right-ward\n",
    "        return (1 - quad(self.pdf, 0, xval)[0])\n",
    "    \n",
    "    def integralBelow(self, xval):\n",
    "        #left-ward\n",
    "        return (quad(self.pdf, 0, xval)[0])"
   ]
  },
  {
   "cell_type": "markdown",
   "metadata": {},
   "source": [
    "Part b, c)"
   ]
  },
  {
   "cell_type": "code",
   "execution_count": 334,
   "metadata": {},
   "outputs": [],
   "source": [
    "obs_data = {\n",
    "    'x': bins,\n",
    "    'y': counts\n",
    "}\n",
    "sigma = 0.012"
   ]
  },
  {
   "cell_type": "markdown",
   "metadata": {},
   "source": [
    "```\n",
    "NOTE: Using a plus 1 factor to y-dataset inside the minimising function to avoid undiviable floats, nan and infinity values that stop the minimiser from finiding the minimum. The intercept is corrected by substracting by this factor after minimisation to get the true intercept along with it's χ2\n",
    "```"
   ]
  },
  {
   "cell_type": "code",
   "execution_count": 335,
   "metadata": {},
   "outputs": [
    {
     "data": {
      "text/html": [
       "<table>\n",
       "    <tr>\n",
       "        <th colspan=\"5\" style=\"text-align:center\" title=\"Minimizer\"> Migrad </th>\n",
       "    </tr>\n",
       "    <tr>\n",
       "        <td colspan=\"2\" style=\"text-align:left\" title=\"Minimum value of function\"> FCN = 21.67 </td>\n",
       "        <td colspan=\"3\" style=\"text-align:center\" title=\"Total number of function and (optional) gradient evaluations\"> Nfcn = 20 </td>\n",
       "    </tr>\n",
       "    <tr>\n",
       "        <td colspan=\"2\" style=\"text-align:left\" title=\"Estimated distance to minimum and goal\"> EDM = 9.45e-05 (Goal: 0.0002) </td>\n",
       "        <td colspan=\"3\" style=\"text-align:center\" title=\"Total run time of algorithms\">  </td>\n",
       "    </tr>\n",
       "    <tr>\n",
       "        <td colspan=\"2\" style=\"text-align:center;background-color:#92CCA6;color:black\"> Valid Minimum </td>\n",
       "        <td colspan=\"3\" style=\"text-align:center;background-color:#92CCA6;color:black\"> No Parameters at limit </td>\n",
       "    </tr>\n",
       "    <tr>\n",
       "        <td colspan=\"2\" style=\"text-align:center;background-color:#92CCA6;color:black\"> Below EDM threshold (goal x 10) </td>\n",
       "        <td colspan=\"3\" style=\"text-align:center;background-color:#92CCA6;color:black\"> Below call limit </td>\n",
       "    </tr>\n",
       "    <tr>\n",
       "        <td style=\"text-align:center;background-color:#92CCA6;color:black\"> Covariance </td>\n",
       "        <td style=\"text-align:center;background-color:#92CCA6;color:black\"> Hesse ok </td>\n",
       "        <td style=\"text-align:center;background-color:#92CCA6;color:black\" title=\"Is covariance matrix accurate?\"> Accurate </td>\n",
       "        <td style=\"text-align:center;background-color:#92CCA6;color:black\" title=\"Is covariance matrix positive definite?\"> Pos. def. </td>\n",
       "        <td style=\"text-align:center;background-color:#92CCA6;color:black\" title=\"Was positive definiteness enforced by Minuit?\"> Not forced </td>\n",
       "    </tr>\n",
       "</table><table>\n",
       "    <tr>\n",
       "        <td></td>\n",
       "        <th title=\"Variable name\"> Name </th>\n",
       "        <th title=\"Value of parameter\"> Value </th>\n",
       "        <th title=\"Hesse error\"> Hesse Error </th>\n",
       "        <th title=\"Minos lower error\"> Minos Error- </th>\n",
       "        <th title=\"Minos upper error\"> Minos Error+ </th>\n",
       "        <th title=\"Lower limit of the parameter\"> Limit- </th>\n",
       "        <th title=\"Upper limit of the parameter\"> Limit+ </th>\n",
       "        <th title=\"Is the parameter fixed in the fit\"> Fixed </th>\n",
       "    </tr>\n",
       "    <tr>\n",
       "        <th> 0 </th>\n",
       "        <td> intercept </td>\n",
       "        <td> 1.86 </td>\n",
       "        <td> 0.19 </td>\n",
       "        <td>  </td>\n",
       "        <td>  </td>\n",
       "        <td>  </td>\n",
       "        <td>  </td>\n",
       "        <td>  </td>\n",
       "    </tr>\n",
       "</table><table>\n",
       "    <tr>\n",
       "        <td></td>\n",
       "        <th> intercept </th>\n",
       "    </tr>\n",
       "    <tr>\n",
       "        <th> intercept </th>\n",
       "        <td> 0.036 </td>\n",
       "    </tr>\n",
       "</table>"
      ],
      "text/plain": [
       "┌─────────────────────────────────────────────────────────────────────────┐\n",
       "│                                Migrad                                   │\n",
       "├──────────────────────────────────┬──────────────────────────────────────┤\n",
       "│ FCN = 21.67                      │              Nfcn = 20               │\n",
       "│ EDM = 9.45e-05 (Goal: 0.0002)    │                                      │\n",
       "├──────────────────────────────────┼──────────────────────────────────────┤\n",
       "│          Valid Minimum           │        No Parameters at limit        │\n",
       "├──────────────────────────────────┼──────────────────────────────────────┤\n",
       "│ Below EDM threshold (goal x 10)  │           Below call limit           │\n",
       "├───────────────┬──────────────────┼───────────┬─────────────┬────────────┤\n",
       "│  Covariance   │     Hesse ok     │ Accurate  │  Pos. def.  │ Not forced │\n",
       "└───────────────┴──────────────────┴───────────┴─────────────┴────────────┘\n",
       "┌───┬───────────┬───────────┬───────────┬────────────┬────────────┬─────────┬─────────┬───────┐\n",
       "│   │ Name      │   Value   │ Hesse Err │ Minos Err- │ Minos Err+ │ Limit-  │ Limit+  │ Fixed │\n",
       "├───┼───────────┼───────────┼───────────┼────────────┼────────────┼─────────┼─────────┼───────┤\n",
       "│ 0 │ intercept │   1.86    │   0.19    │            │            │         │         │       │\n",
       "└───┴───────────┴───────────┴───────────┴────────────┴────────────┴─────────┴─────────┴───────┘\n",
       "┌───────────┬───────────┐\n",
       "│           │ intercept │\n",
       "├───────────┼───────────┤\n",
       "│ intercept │     0.036 │\n",
       "└───────────┴───────────┘"
      ]
     },
     "execution_count": 335,
     "metadata": {},
     "output_type": "execute_result"
    }
   ],
   "source": [
    "def min_chi2_H0(intercept): \n",
    "    # Defined a Minuit specific funtion for chi^2 minimisation\n",
    "    # for null Hypothesis only, therefore set with only flat model\n",
    "    model = flat(intercept, XMIN, XMAX)\n",
    "    \n",
    "    total = 0.\n",
    "    for x, N_obs in zip(obs_data['x'], obs_data['y']+1):\n",
    "        N_exp = model.evaluate(x)\n",
    "        if N_exp == 0.:\n",
    "            N_exp = 1e-3\n",
    "\n",
    "        total += (N_exp - N_obs + (N_obs*np.log(N_obs/N_exp)))\n",
    "    return (2*total)\n",
    "\n",
    "\n",
    "Min_data = []\n",
    "Chi_2 = []\n",
    "\n",
    "startvals_H0 = {\n",
    "    'intercept': 1.8,\n",
    "}\n",
    "\n",
    "Min_H0 = Minuit(min_chi2_H0, **startvals_H0)\n",
    "Min_H0.hesse()\n",
    "Min_H0.migrad()  # find minimum"
   ]
  },
  {
   "cell_type": "code",
   "execution_count": 336,
   "metadata": {},
   "outputs": [
    {
     "name": "stdout",
     "output_type": "stream",
     "text": [
      "The intercept is found at 0.8580643598860185 with a χ^2 of 65.37459450353077\n"
     ]
    }
   ],
   "source": [
    "intercept_H0 = Min_H0.values['intercept']-1\n",
    "Chi_2_H0 = min_chi2_H0(intercept_H0)\n",
    "print(\"The intercept is found at\", intercept_H0, \"with a χ^2 of\", Chi_2_H0)"
   ]
  },
  {
   "cell_type": "code",
   "execution_count": 337,
   "metadata": {},
   "outputs": [],
   "source": [
    "def min_chi2_H1(intercept, mean):\n",
    "    # Defined a Minuit specific funtion for chi^2 minimisation\n",
    "    # for null Hypothesis only, therefore set with flat + guassian model\n",
    "\n",
    "    lin = flat(intercept, XMIN, XMAX)\n",
    "    gauss = gaussian(mean, (12/1000))\n",
    "\n",
    "    total = 0.\n",
    "    for x, N_obs in zip(obs_data['x'], obs_data['y']+1):\n",
    "        N_exp = lin.evaluate(x) + gauss.evaluate(x)\n",
    "        if N_exp == 0.:\n",
    "            N_exp = 1e-20\n",
    "        \n",
    "        total += (N_exp - N_obs + (N_obs*np.log(N_obs/N_exp)))\n",
    "    return (2*total)\n",
    "\n",
    "Chi_2_diff = []\n",
    "for i in bins:\n",
    "    startvals_H1 = {\n",
    "            'intercept': 1,\n",
    "            'mean': i\n",
    "        }\n",
    "\n",
    "    Min_H1 = Minuit(min_chi2_H1, **startvals_H1)\n",
    "    Min_H1.fixed['mean'] = True\n",
    "    Min_H1.hesse()\n",
    "    Min_H1.migrad()  # find minimum\n",
    "\n",
    "    Chi_2_H1 = min_chi2_H1(Min_H1.values['intercept']-1, Min_H1.values['mean'])\n",
    "    Chi_2_diff.append(Chi_2_H0 - Chi_2_H1)\n",
    "\n",
    "Chi_2_diff = np.array(Chi_2_diff)"
   ]
  },
  {
   "cell_type": "code",
   "execution_count": 338,
   "metadata": {},
   "outputs": [
    {
     "data": {
      "image/png": "[encoded data removed]",
      "text/plain": [
       "<Figure size 640x480 with 1 Axes>"
      ]
     },
     "metadata": {},
     "output_type": "display_data"
    }
   ],
   "source": [
    "plt.bar(bins, Chi_2_diff, width=(bins[1]-bins[0]))\n",
    "plt.xlabel(\"Bin Counts\")\n",
    "plt.ylabel(\"$\\Delta\\chi^2$ $(H_{0}-H_{1})$\")\n",
    "plt.show()"
   ]
  },
  {
   "cell_type": "markdown",
   "metadata": {},
   "source": [
    "Part d)"
   ]
  },
  {
   "cell_type": "code",
   "execution_count": 339,
   "metadata": {},
   "outputs": [
    {
     "name": "stdout",
     "output_type": "stream",
     "text": [
      "The maximum χ2 calculated is: 3.394487652141585\n"
     ]
    }
   ],
   "source": [
    "Chi_2_diff_max = np.amax(Chi_2_diff)\n",
    "print(\"The maximum χ2 calculated is:\", Chi_2_diff_max)"
   ]
  },
  {
   "cell_type": "code",
   "execution_count": 348,
   "metadata": {},
   "outputs": [
    {
     "name": "stdout",
     "output_type": "stream",
     "text": [
      "The p-value found using Wilk's Theorem on the hypothesis test is: 0.06541468274808526\n"
     ]
    }
   ],
   "source": [
    "p_val = 1 - chi2.cdf(Chi_2_diff_max, 1)\n",
    "print(\"The p-value found using Wilk's Theorem on the hypothesis test is:\", p_val)"
   ]
  },
  {
   "cell_type": "code",
   "execution_count": 349,
   "metadata": {},
   "outputs": [
    {
     "name": "stdout",
     "output_type": "stream",
     "text": [
      "The Z-score for the hypothesis test is: 1.8424135399365653\n"
     ]
    }
   ],
   "source": [
    "z_score = erfinv(1 - p_val)*np.sqrt(2)\n",
    "print(\"The Z-score for the hypothesis test is:\", z_score)"
   ]
  },
  {
   "cell_type": "code",
   "execution_count": null,
   "metadata": {},
   "outputs": [],
   "source": []
  }
 ],
 "metadata": {
  "kernelspec": {
   "display_name": "daml",
   "language": "python",
   "name": "python3"
  },
  "language_info": {
   "codemirror_mode": {
    "name": "ipython",
    "version": 3
   },
   "file_extension": ".py",
   "mimetype": "text/x-python",
   "name": "python",
   "nbconvert_exporter": "python",
   "pygments_lexer": "ipython3",
   "version": "3.10.8"
  }
 },
 "nbformat": 4,
 "nbformat_minor": 2
}
